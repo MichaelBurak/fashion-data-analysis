{
 "cells": [
  {
   "cell_type": "markdown",
   "metadata": {
    "toc": true
   },
   "source": [
    "<h1>Table of Contents<span class=\"tocSkip\"></span></h1>\n",
    "<div class=\"toc\"><ul class=\"toc-item\"><li><span><a href=\"#Questions-to-ask:\" data-toc-modified-id=\"Questions-to-ask:-1\"><span class=\"toc-item-num\">1&nbsp;&nbsp;</span>Questions to ask:</a></span><ul class=\"toc-item\"><li><span><a href=\"#Ratings-and-reviews:\" data-toc-modified-id=\"Ratings-and-reviews:-1.1\"><span class=\"toc-item-num\">1.1&nbsp;&nbsp;</span>Ratings and reviews:</a></span></li><li><span><a href=\"#NLP:\" data-toc-modified-id=\"NLP:-1.2\"><span class=\"toc-item-num\">1.2&nbsp;&nbsp;</span>NLP:</a></span></li><li><span><a href=\"#Core-business-question:\" data-toc-modified-id=\"Core-business-question:-1.3\"><span class=\"toc-item-num\">1.3&nbsp;&nbsp;</span>Core business question:</a></span></li></ul></li><li><span><a href=\"#General-TBD:\" data-toc-modified-id=\"General-TBD:-2\"><span class=\"toc-item-num\">2&nbsp;&nbsp;</span>General TBD:</a></span><ul class=\"toc-item\"><li><ul class=\"toc-item\"><li><span><a href=\"#Rating-and-review_count-are-correlated-as-missing-values,-there-are-no-style_attributes\" data-toc-modified-id=\"Rating-and-review_count-are-correlated-as-missing-values,-there-are-no-style_attributes-2.0.1\"><span class=\"toc-item-num\">2.0.1&nbsp;&nbsp;</span>Rating and review_count are correlated as missing values, there are no style_attributes</a></span></li><li><span><a href=\"#Url-isn't-very-useful,-will-drop\" data-toc-modified-id=\"Url-isn't-very-useful,-will-drop-2.0.2\"><span class=\"toc-item-num\">2.0.2&nbsp;&nbsp;</span>Url isn't very useful, will drop</a></span></li></ul></li></ul></li><li><span><a href=\"#Examining-the-columns\" data-toc-modified-id=\"Examining-the-columns-3\"><span class=\"toc-item-num\">3&nbsp;&nbsp;</span>Examining the columns</a></span></li><li><span><a href=\"#Product-name\" data-toc-modified-id=\"Product-name-4\"><span class=\"toc-item-num\">4&nbsp;&nbsp;</span>Product name</a></span><ul class=\"toc-item\"><li><ul class=\"toc-item\"><li><span><a href=\"#Candidate-for-encoding---product_name\" data-toc-modified-id=\"Candidate-for-encoding---product_name-4.0.1\"><span class=\"toc-item-num\">4.0.1&nbsp;&nbsp;</span>Candidate for encoding-- product_name</a></span></li><li><span><a href=\"#Problem:-high-cardinality,-could-be-solved-by-NLP-maybe-to-categorize?\" data-toc-modified-id=\"Problem:-high-cardinality,-could-be-solved-by-NLP-maybe-to-categorize?-4.0.2\"><span class=\"toc-item-num\">4.0.2&nbsp;&nbsp;</span>Problem: high cardinality, could be solved by NLP maybe to categorize?</a></span></li><li><span><a href=\"#Needs-stopword-removal\" data-toc-modified-id=\"Needs-stopword-removal-4.0.3\"><span class=\"toc-item-num\">4.0.3&nbsp;&nbsp;</span>Needs stopword removal</a></span></li></ul></li><li><span><a href=\"#pdp_url\" data-toc-modified-id=\"pdp_url-4.1\"><span class=\"toc-item-num\">4.1&nbsp;&nbsp;</span>pdp_url</a></span><ul class=\"toc-item\"><li><span><a href=\"#Candidate-for-encoding---brand_name\" data-toc-modified-id=\"Candidate-for-encoding---brand_name-4.1.1\"><span class=\"toc-item-num\">4.1.1&nbsp;&nbsp;</span>Candidate for encoding-- brand_name</a></span></li></ul></li><li><span><a href=\"#brand_name----to-be-mapped-to-0-and-1\" data-toc-modified-id=\"brand_name----to-be-mapped-to-0-and-1-4.2\"><span class=\"toc-item-num\">4.2&nbsp;&nbsp;</span>brand_name -- to be mapped to 0 and 1</a></span></li><li><span><a href=\"#product_category\" data-toc-modified-id=\"product_category-4.3\"><span class=\"toc-item-num\">4.3&nbsp;&nbsp;</span>product_category</a></span><ul class=\"toc-item\"><li><span><a href=\"#Candidate-for-encoding----product_category\" data-toc-modified-id=\"Candidate-for-encoding----product_category-4.3.1\"><span class=\"toc-item-num\">4.3.1&nbsp;&nbsp;</span>Candidate for encoding -- product_category</a></span></li></ul></li><li><span><a href=\"#Retailer\" data-toc-modified-id=\"Retailer-4.4\"><span class=\"toc-item-num\">4.4&nbsp;&nbsp;</span>Retailer</a></span><ul class=\"toc-item\"><li><span><a href=\"#Same-value-column,-to-be-dropped----retailer\" data-toc-modified-id=\"Same-value-column,-to-be-dropped----retailer-4.4.1\"><span class=\"toc-item-num\">4.4.1&nbsp;&nbsp;</span>Same value column, to be dropped -- retailer</a></span></li></ul></li><li><span><a href=\"#Description----TBD:-NLP-analysis\" data-toc-modified-id=\"Description----TBD:-NLP-analysis-4.5\"><span class=\"toc-item-num\">4.5&nbsp;&nbsp;</span>Description -- TBD: NLP analysis</a></span></li><li><span><a href=\"#Rating\" data-toc-modified-id=\"Rating-4.6\"><span class=\"toc-item-num\">4.6&nbsp;&nbsp;</span>Rating</a></span><ul class=\"toc-item\"><li><span><a href=\"#As-shown-above,-the-majority-of-ratings(and-review-counts-consequently)-are-NaN\" data-toc-modified-id=\"As-shown-above,-the-majority-of-ratings(and-review-counts-consequently)-are-NaN-4.6.1\"><span class=\"toc-item-num\">4.6.1&nbsp;&nbsp;</span>As shown above, the majority of ratings(and review counts consequently) are NaN</a></span></li></ul></li><li><span><a href=\"#Review-count\" data-toc-modified-id=\"Review-count-4.7\"><span class=\"toc-item-num\">4.7&nbsp;&nbsp;</span>Review count</a></span></li><li><span><a href=\"#Total-sizes\" data-toc-modified-id=\"Total-sizes-4.8\"><span class=\"toc-item-num\">4.8&nbsp;&nbsp;</span>Total sizes</a></span><ul class=\"toc-item\"><li><span><a href=\"#Candidate-for-encoding:-total_sizes,-30-unique-total-size-combinations\" data-toc-modified-id=\"Candidate-for-encoding:-total_sizes,-30-unique-total-size-combinations-4.8.1\"><span class=\"toc-item-num\">4.8.1&nbsp;&nbsp;</span>Candidate for encoding: total_sizes, 30 unique total size combinations</a></span></li></ul></li><li><span><a href=\"#Available-sizes\" data-toc-modified-id=\"Available-sizes-4.9\"><span class=\"toc-item-num\">4.9&nbsp;&nbsp;</span>Available sizes</a></span><ul class=\"toc-item\"><li><span><a href=\"#Candidate-for-encoding:-available_sizes,-44-unique-sizes\" data-toc-modified-id=\"Candidate-for-encoding:-available_sizes,-44-unique-sizes-4.9.1\"><span class=\"toc-item-num\">4.9.1&nbsp;&nbsp;</span>Candidate for encoding: available_sizes, 44 unique sizes</a></span></li></ul></li><li><span><a href=\"#Color\" data-toc-modified-id=\"Color-4.10\"><span class=\"toc-item-num\">4.10&nbsp;&nbsp;</span>Color</a></span><ul class=\"toc-item\"><li><span><a href=\"#Candidate-for-encoding,-color----high-cardinality,-would-be-a-very-sparse-dummy-variable\" data-toc-modified-id=\"Candidate-for-encoding,-color----high-cardinality,-would-be-a-very-sparse-dummy-variable-4.10.1\"><span class=\"toc-item-num\">4.10.1&nbsp;&nbsp;</span>Candidate for encoding, color -- high cardinality, would be a very sparse dummy variable</a></span></li><li><span><a href=\"#Lowercasing-out-duplicate-colors\" data-toc-modified-id=\"Lowercasing-out-duplicate-colors-4.10.2\"><span class=\"toc-item-num\">4.10.2&nbsp;&nbsp;</span>Lowercasing out duplicate colors</a></span></li><li><span><a href=\"#Could-use-sorting-into-bigger-color-categories-via.-primary-color?\" data-toc-modified-id=\"Could-use-sorting-into-bigger-color-categories-via.-primary-color?-4.10.3\"><span class=\"toc-item-num\">4.10.3&nbsp;&nbsp;</span>Could use sorting into bigger color categories via. primary color?</a></span></li></ul></li></ul></li><li><span><a href=\"#Dropping-empty,-single-value,-and-non-informative-columns\" data-toc-modified-id=\"Dropping-empty,-single-value,-and-non-informative-columns-5\"><span class=\"toc-item-num\">5&nbsp;&nbsp;</span>Dropping empty, single value, and non-informative columns</a></span></li><li><span><a href=\"#Narrowing-focus----Getting-only-products-with-ratings\" data-toc-modified-id=\"Narrowing-focus----Getting-only-products-with-ratings-6\"><span class=\"toc-item-num\">6&nbsp;&nbsp;</span>Narrowing focus -- Getting only products with ratings</a></span><ul class=\"toc-item\"><li><ul class=\"toc-item\"><li><span><a href=\"#Histogram-of-ratings\" data-toc-modified-id=\"Histogram-of-ratings-6.0.1\"><span class=\"toc-item-num\">6.0.1&nbsp;&nbsp;</span>Histogram of ratings</a></span></li></ul></li><li><span><a href=\"#Examining-ratings----amount-of-reviews\" data-toc-modified-id=\"Examining-ratings----amount-of-reviews-6.1\"><span class=\"toc-item-num\">6.1&nbsp;&nbsp;</span>Examining ratings -- amount of reviews</a></span><ul class=\"toc-item\"><li><span><a href=\"#What?\" data-toc-modified-id=\"What?-6.1.1\"><span class=\"toc-item-num\">6.1.1&nbsp;&nbsp;</span>What?</a></span></li></ul></li><li><span><a href=\"#Price-of-rated-items\" data-toc-modified-id=\"Price-of-rated-items-6.2\"><span class=\"toc-item-num\">6.2&nbsp;&nbsp;</span>Price of rated items</a></span><ul class=\"toc-item\"><li><span><a href=\"#Cleaning-and-coercing-to-numeric-from-string-with-dollar-sign\" data-toc-modified-id=\"Cleaning-and-coercing-to-numeric-from-string-with-dollar-sign-6.2.1\"><span class=\"toc-item-num\">6.2.1&nbsp;&nbsp;</span>Cleaning and coercing to numeric from string with dollar sign</a></span></li><li><span><a href=\"#Distribution-of-reviewed-item-prices\" data-toc-modified-id=\"Distribution-of-reviewed-item-prices-6.2.2\"><span class=\"toc-item-num\">6.2.2&nbsp;&nbsp;</span>Distribution of reviewed item prices</a></span></li></ul></li><li><span><a href=\"#MRP-of-reviewed-items\" data-toc-modified-id=\"MRP-of-reviewed-items-6.3\"><span class=\"toc-item-num\">6.3&nbsp;&nbsp;</span>MRP of reviewed items</a></span><ul class=\"toc-item\"><li><span><a href=\"#Cleaning-ala.-price\" data-toc-modified-id=\"Cleaning-ala.-price-6.3.1\"><span class=\"toc-item-num\">6.3.1&nbsp;&nbsp;</span>Cleaning ala. price</a></span></li><li><span><a href=\"#Distribution-of-reviewed-item-MRP\" data-toc-modified-id=\"Distribution-of-reviewed-item-MRP-6.3.2\"><span class=\"toc-item-num\">6.3.2&nbsp;&nbsp;</span>Distribution of reviewed item MRP</a></span></li></ul></li><li><span><a href=\"#Price-and-MRP-of-reviewed-items-distribution-comparison\" data-toc-modified-id=\"Price-and-MRP-of-reviewed-items-distribution-comparison-6.4\"><span class=\"toc-item-num\">6.4&nbsp;&nbsp;</span>Price and MRP of reviewed items distribution comparison</a></span></li><li><span><a href=\"#Price-and-MRP-vs.-Ratings\" data-toc-modified-id=\"Price-and-MRP-vs.-Ratings-6.5\"><span class=\"toc-item-num\">6.5&nbsp;&nbsp;</span>Price and MRP vs. Ratings</a></span></li></ul></li><li><span><a href=\"#Creating-price_diff-or-difference-between-price-and-mrp-in-percent\" data-toc-modified-id=\"Creating-price_diff-or-difference-between-price-and-mrp-in-percent-7\"><span class=\"toc-item-num\">7&nbsp;&nbsp;</span>Creating price_diff or difference between price and mrp in percent</a></span><ul class=\"toc-item\"><li><ul class=\"toc-item\"><li><span><a href=\"#Histogram-of-all-discounts\" data-toc-modified-id=\"Histogram-of-all-discounts-7.0.1\"><span class=\"toc-item-num\">7.0.1&nbsp;&nbsp;</span>Histogram of all discounts</a></span></li><li><span><a href=\"#Distribution-of-Price-between-items-discounted-and-not-from-MRP\" data-toc-modified-id=\"Distribution-of-Price-between-items-discounted-and-not-from-MRP-7.0.2\"><span class=\"toc-item-num\">7.0.2&nbsp;&nbsp;</span>Distribution of Price between items discounted and not from MRP</a></span></li><li><span><a href=\"#Top-product-categories-of-discounted-from-MRP-items\" data-toc-modified-id=\"Top-product-categories-of-discounted-from-MRP-items-7.0.3\"><span class=\"toc-item-num\">7.0.3&nbsp;&nbsp;</span>Top product categories of discounted from MRP items</a></span></li></ul></li></ul></li><li><span><a href=\"#TBD:-An-available_size_count-derived-from-amount-of-sizes-available\" data-toc-modified-id=\"TBD:-An-available_size_count-derived-from-amount-of-sizes-available-8\"><span class=\"toc-item-num\">8&nbsp;&nbsp;</span>TBD: An available_size_count derived from amount of sizes available</a></span></li><li><span><a href=\"#Next-steps\" data-toc-modified-id=\"Next-steps-9\"><span class=\"toc-item-num\">9&nbsp;&nbsp;</span>Next steps</a></span><ul class=\"toc-item\"><li><span><a href=\"#Dropping-high-cardinality-categoricals-and-text-feature(description)-for-now\" data-toc-modified-id=\"Dropping-high-cardinality-categoricals-and-text-feature(description)-for-now-9.1\"><span class=\"toc-item-num\">9.1&nbsp;&nbsp;</span>Dropping high cardinality categoricals and text feature(description) for now</a></span></li><li><span><a href=\"#Brand_name-to-boolean-value\" data-toc-modified-id=\"Brand_name-to-boolean-value-9.2\"><span class=\"toc-item-num\">9.2&nbsp;&nbsp;</span>Brand_name to boolean value</a></span></li></ul></li><li><span><a href=\"#Adding-in-Hanky-Panky-data-before-encoding\" data-toc-modified-id=\"Adding-in-Hanky-Panky-data-before-encoding-10\"><span class=\"toc-item-num\">10&nbsp;&nbsp;</span>Adding in Hanky Panky data before encoding</a></span><ul class=\"toc-item\"><li><span><a href=\"#Only-rated-items-off-the-bat-to-match-VS-dataframe\" data-toc-modified-id=\"Only-rated-items-off-the-bat-to-match-VS-dataframe-10.1\"><span class=\"toc-item-num\">10.1&nbsp;&nbsp;</span>Only rated items off the bat to match VS dataframe</a></span><ul class=\"toc-item\"><li><span><a href=\"#Style_attributes-present,-to-be-encoded\" data-toc-modified-id=\"Style_attributes-present,-to-be-encoded-10.1.1\"><span class=\"toc-item-num\">10.1.1&nbsp;&nbsp;</span>Style_attributes present, to be encoded</a></span></li><li><span><a href=\"#Retailer-is-uniform,-to-be-dropped\" data-toc-modified-id=\"Retailer-is-uniform,-to-be-dropped-10.1.2\"><span class=\"toc-item-num\">10.1.2&nbsp;&nbsp;</span>Retailer is uniform, to be dropped</a></span></li><li><span><a href=\"#URL-has-no-meaning\" data-toc-modified-id=\"URL-has-no-meaning-10.1.3\"><span class=\"toc-item-num\">10.1.3&nbsp;&nbsp;</span>URL has no meaning</a></span></li><li><span><a href=\"#Dropping-retailer-and-url\" data-toc-modified-id=\"Dropping-retailer-and-url-10.1.4\"><span class=\"toc-item-num\">10.1.4&nbsp;&nbsp;</span>Dropping retailer and url</a></span></li><li><span><a href=\"#Product-name-to-be-encoded\" data-toc-modified-id=\"Product-name-to-be-encoded-10.1.5\"><span class=\"toc-item-num\">10.1.5&nbsp;&nbsp;</span>Product name to be encoded</a></span></li></ul></li><li><span><a href=\"#Cleaning-dollar-signs-from-mrp-and-price\" data-toc-modified-id=\"Cleaning-dollar-signs-from-mrp-and-price-10.2\"><span class=\"toc-item-num\">10.2&nbsp;&nbsp;</span>Cleaning dollar signs from mrp and price</a></span><ul class=\"toc-item\"><li><span><a href=\"#Brand_name\" data-toc-modified-id=\"Brand_name-10.2.1\"><span class=\"toc-item-num\">10.2.1&nbsp;&nbsp;</span>Brand_name</a></span></li><li><span><a href=\"#Redundant\" data-toc-modified-id=\"Redundant-10.2.2\"><span class=\"toc-item-num\">10.2.2&nbsp;&nbsp;</span>Redundant</a></span></li><li><span><a href=\"#Here-description-can-be-encoded\" data-toc-modified-id=\"Here-description-can-be-encoded-10.2.3\"><span class=\"toc-item-num\">10.2.3&nbsp;&nbsp;</span>Here description can be encoded</a></span></li><li><span><a href=\"#Total_sizes-to-be-encoded\" data-toc-modified-id=\"Total_sizes-to-be-encoded-10.2.4\"><span class=\"toc-item-num\">10.2.4&nbsp;&nbsp;</span>Total_sizes to be encoded</a></span></li><li><span><a href=\"#As-is-available_sizes\" data-toc-modified-id=\"As-is-available_sizes-10.2.5\"><span class=\"toc-item-num\">10.2.5&nbsp;&nbsp;</span>As is available_sizes</a></span></li><li><span><a href=\"#Dropping-color\" data-toc-modified-id=\"Dropping-color-10.2.6\"><span class=\"toc-item-num\">10.2.6&nbsp;&nbsp;</span>Dropping color</a></span></li></ul></li></ul></li><li><span><a href=\"#Comparing-dataframes\" data-toc-modified-id=\"Comparing-dataframes-11\"><span class=\"toc-item-num\">11&nbsp;&nbsp;</span>Comparing dataframes</a></span><ul class=\"toc-item\"><li><span><a href=\"#Overlapping-columns:-MRP,-price,-rating,-review_count,-total_sizes,-available_size\" data-toc-modified-id=\"Overlapping-columns:-MRP,-price,-rating,-review_count,-total_sizes,-available_size-11.1\"><span class=\"toc-item-num\">11.1&nbsp;&nbsp;</span>Overlapping columns: MRP, price, rating, review_count, total_sizes, available_size</a></span></li><li><span><a href=\"#Non-overlapping:-R_df2-has-product_name,-product_category,-description,-style_attributes,-lacks-price_diff\" data-toc-modified-id=\"Non-overlapping:-R_df2-has-product_name,-product_category,-description,-style_attributes,-lacks-price_diff-11.2\"><span class=\"toc-item-num\">11.2&nbsp;&nbsp;</span>Non-overlapping: R_df2 has product_name, product_category, description, style_attributes, lacks price_diff</a></span></li></ul></li><li><span><a href=\"#TBD:-Don't-drop-non-overlapping-columns\" data-toc-modified-id=\"TBD:-Don't-drop-non-overlapping-columns-12\"><span class=\"toc-item-num\">12&nbsp;&nbsp;</span>TBD: Don't drop non-overlapping columns</a></span></li><li><span><a href=\"#Modeling-with-two-dataframes\" data-toc-modified-id=\"Modeling-with-two-dataframes-13\"><span class=\"toc-item-num\">13&nbsp;&nbsp;</span>Modeling with two dataframes</a></span><ul class=\"toc-item\"><li><span><a href=\"#Prep-for-modeling----split\" data-toc-modified-id=\"Prep-for-modeling----split-13.1\"><span class=\"toc-item-num\">13.1&nbsp;&nbsp;</span>Prep for modeling -- split</a></span></li><li><span><a href=\"#DecisionTreeRegressor\" data-toc-modified-id=\"DecisionTreeRegressor-13.2\"><span class=\"toc-item-num\">13.2&nbsp;&nbsp;</span>DecisionTreeRegressor</a></span></li><li><span><a href=\"#Random-Forest\" data-toc-modified-id=\"Random-Forest-13.3\"><span class=\"toc-item-num\">13.3&nbsp;&nbsp;</span>Random Forest</a></span></li><li><span><a href=\"#Elasticnet\" data-toc-modified-id=\"Elasticnet-13.4\"><span class=\"toc-item-num\">13.4&nbsp;&nbsp;</span>Elasticnet</a></span></li><li><span><a href=\"#XGBoost\" data-toc-modified-id=\"XGBoost-13.5\"><span class=\"toc-item-num\">13.5&nbsp;&nbsp;</span>XGBoost</a></span></li><li><span><a href=\"#AdaBoost\" data-toc-modified-id=\"AdaBoost-13.6\"><span class=\"toc-item-num\">13.6&nbsp;&nbsp;</span>AdaBoost</a></span></li></ul></li><li><span><a href=\"#Simple-deep-learning-TF/keras-regression\" data-toc-modified-id=\"Simple-deep-learning-TF/keras-regression-14\"><span class=\"toc-item-num\">14&nbsp;&nbsp;</span>Simple deep learning TF/keras regression</a></span><ul class=\"toc-item\"><li><ul class=\"toc-item\"><li><span><a href=\"#https://machinelearningmastery.com/tensorflow-tutorial-deep-learning-with-tf-keras/\" data-toc-modified-id=\"https://machinelearningmastery.com/tensorflow-tutorial-deep-learning-with-tf-keras/-14.0.1\"><span class=\"toc-item-num\">14.0.1&nbsp;&nbsp;</span><a href=\"https://machinelearningmastery.com/tensorflow-tutorial-deep-learning-with-tf-keras/\" target=\"_blank\">https://machinelearningmastery.com/tensorflow-tutorial-deep-learning-with-tf-keras/</a></a></span></li></ul></li></ul></li><li><span><a href=\"#Grid-search-Kerasregressor\" data-toc-modified-id=\"Grid-search-Kerasregressor-15\"><span class=\"toc-item-num\">15&nbsp;&nbsp;</span>Grid search Kerasregressor</a></span><ul class=\"toc-item\"><li><span><a href=\"#Deep-regression-with-scaling\" data-toc-modified-id=\"Deep-regression-with-scaling-15.1\"><span class=\"toc-item-num\">15.1&nbsp;&nbsp;</span>Deep regression with scaling</a></span></li></ul></li><li><span><a href=\"#Denser-network\" data-toc-modified-id=\"Denser-network-16\"><span class=\"toc-item-num\">16&nbsp;&nbsp;</span>Denser network</a></span></li><li><span><a href=\"#Review_df(just-Victoria-Secret-data)-modeling-below--\" data-toc-modified-id=\"Review_df(just-Victoria-Secret-data)-modeling-below---17\"><span class=\"toc-item-num\">17&nbsp;&nbsp;</span>Review_df(just Victoria Secret data) modeling below--</a></span><ul class=\"toc-item\"><li><span><a href=\"#Prep-for-modeling----split\" data-toc-modified-id=\"Prep-for-modeling----split-17.1\"><span class=\"toc-item-num\">17.1&nbsp;&nbsp;</span>Prep for modeling -- split</a></span></li><li><span><a href=\"#Modeling\" data-toc-modified-id=\"Modeling-17.2\"><span class=\"toc-item-num\">17.2&nbsp;&nbsp;</span>Modeling</a></span></li><li><span><a href=\"#Decision-Tree-Regressor\" data-toc-modified-id=\"Decision-Tree-Regressor-17.3\"><span class=\"toc-item-num\">17.3&nbsp;&nbsp;</span>Decision Tree Regressor</a></span></li></ul></li><li><span><a href=\"#Simple-deep-learning-TF/keras-regression\" data-toc-modified-id=\"Simple-deep-learning-TF/keras-regression-18\"><span class=\"toc-item-num\">18&nbsp;&nbsp;</span>Simple deep learning TF/keras regression</a></span><ul class=\"toc-item\"><li><ul class=\"toc-item\"><li><span><a href=\"#https://machinelearningmastery.com/tensorflow-tutorial-deep-learning-with-tf-keras/\" data-toc-modified-id=\"https://machinelearningmastery.com/tensorflow-tutorial-deep-learning-with-tf-keras/-18.0.1\"><span class=\"toc-item-num\">18.0.1&nbsp;&nbsp;</span><a href=\"https://machinelearningmastery.com/tensorflow-tutorial-deep-learning-with-tf-keras/\" target=\"_blank\">https://machinelearningmastery.com/tensorflow-tutorial-deep-learning-with-tf-keras/</a></a></span></li></ul></li><li><span><a href=\"#With-scaling\" data-toc-modified-id=\"With-scaling-18.1\"><span class=\"toc-item-num\">18.1&nbsp;&nbsp;</span>With scaling</a></span></li><li><span><a href=\"#Code-improvement----KerasRegressor-wrapper-baseline\" data-toc-modified-id=\"Code-improvement----KerasRegressor-wrapper-baseline-18.2\"><span class=\"toc-item-num\">18.2&nbsp;&nbsp;</span>Code improvement -- KerasRegressor wrapper baseline</a></span></li></ul></li><li><span><a href=\"#Feature-selection\" data-toc-modified-id=\"Feature-selection-19\"><span class=\"toc-item-num\">19&nbsp;&nbsp;</span>Feature selection</a></span></li></ul></div>"
   ]
  },
  {
   "cell_type": "code",
   "execution_count": 1,
   "metadata": {
    "ExecuteTime": {
     "end_time": "2021-01-21T09:11:12.258460Z",
     "start_time": "2021-01-21T09:11:07.021820Z"
    }
   },
   "outputs": [],
   "source": [
    "import pandas as pd\n",
    "import seaborn as sns\n",
    "from matplotlib import pyplot as plt\n",
    "import numpy as np"
   ]
  },
  {
   "cell_type": "code",
   "execution_count": 16,
   "metadata": {
    "ExecuteTime": {
     "end_time": "2021-01-21T09:14:37.099440Z",
     "start_time": "2021-01-21T09:14:37.054948Z"
    }
   },
   "outputs": [],
   "source": [
    "import missingno as msno"
   ]
  },
  {
   "cell_type": "code",
   "execution_count": 2,
   "metadata": {
    "ExecuteTime": {
     "end_time": "2021-01-21T09:11:13.523814Z",
     "start_time": "2021-01-21T09:11:13.520663Z"
    }
   },
   "outputs": [],
   "source": [
    "sns.set_style(\"dark\")\n",
    "sns.set_context(\"poster\")"
   ]
  },
  {
   "cell_type": "code",
   "execution_count": 3,
   "metadata": {
    "ExecuteTime": {
     "end_time": "2021-01-21T09:11:15.297719Z",
     "start_time": "2021-01-21T09:11:15.293904Z"
    }
   },
   "outputs": [],
   "source": [
    "sns.set_palette(\"husl\", 9)"
   ]
  },
  {
   "cell_type": "code",
   "execution_count": 4,
   "metadata": {
    "ExecuteTime": {
     "end_time": "2021-01-21T09:11:23.130026Z",
     "start_time": "2021-01-21T09:11:20.607596Z"
    }
   },
   "outputs": [
    {
     "data": {
      "text/html": [
       "<div>\n",
       "<style scoped>\n",
       "    .dataframe tbody tr th:only-of-type {\n",
       "        vertical-align: middle;\n",
       "    }\n",
       "\n",
       "    .dataframe tbody tr th {\n",
       "        vertical-align: top;\n",
       "    }\n",
       "\n",
       "    .dataframe thead th {\n",
       "        text-align: right;\n",
       "    }\n",
       "</style>\n",
       "<table border=\"1\" class=\"dataframe\">\n",
       "  <thead>\n",
       "    <tr style=\"text-align: right;\">\n",
       "      <th></th>\n",
       "      <th>product_name</th>\n",
       "      <th>mrp</th>\n",
       "      <th>price</th>\n",
       "      <th>pdp_url</th>\n",
       "      <th>brand_name</th>\n",
       "      <th>product_category</th>\n",
       "      <th>retailer</th>\n",
       "      <th>description</th>\n",
       "      <th>rating</th>\n",
       "      <th>review_count</th>\n",
       "      <th>style_attributes</th>\n",
       "      <th>total_sizes</th>\n",
       "      <th>available_size</th>\n",
       "      <th>color</th>\n",
       "    </tr>\n",
       "  </thead>\n",
       "  <tbody>\n",
       "    <tr>\n",
       "      <th>0</th>\n",
       "      <td>Very Sexy Strappy Lace Thong Panty</td>\n",
       "      <td>$14.50</td>\n",
       "      <td>$14.50</td>\n",
       "      <td>https://www.victoriassecret.com/panties/shop-a...</td>\n",
       "      <td>Victoria's Secret</td>\n",
       "      <td>Strappy Lace Thong Panty</td>\n",
       "      <td>Victoriassecret US</td>\n",
       "      <td>Lots of cheek peek, pretty lace, a strappy bac...</td>\n",
       "      <td>NaN</td>\n",
       "      <td>NaN</td>\n",
       "      <td>NaN</td>\n",
       "      <td>[\"XS\", \"S\", \"M\", \"L\", \"XL\"]</td>\n",
       "      <td>S</td>\n",
       "      <td>peach melba</td>\n",
       "    </tr>\n",
       "    <tr>\n",
       "      <th>1</th>\n",
       "      <td>Very Sexy Strappy Lace Thong Panty</td>\n",
       "      <td>$14.50</td>\n",
       "      <td>$14.50</td>\n",
       "      <td>https://www.victoriassecret.com/panties/shop-a...</td>\n",
       "      <td>Victoria's Secret</td>\n",
       "      <td>Strappy Lace Thong Panty</td>\n",
       "      <td>Victoriassecret US</td>\n",
       "      <td>Lots of cheek peek, pretty lace, a strappy bac...</td>\n",
       "      <td>NaN</td>\n",
       "      <td>NaN</td>\n",
       "      <td>NaN</td>\n",
       "      <td>[\"XS\", \"S\", \"M\", \"L\", \"XL\"]</td>\n",
       "      <td>S</td>\n",
       "      <td>black</td>\n",
       "    </tr>\n",
       "    <tr>\n",
       "      <th>2</th>\n",
       "      <td>Very Sexy Strappy Lace Thong Panty</td>\n",
       "      <td>$14.50</td>\n",
       "      <td>$14.50</td>\n",
       "      <td>https://www.victoriassecret.com/panties/shop-a...</td>\n",
       "      <td>Victoria's Secret</td>\n",
       "      <td>Strappy Lace Thong Panty</td>\n",
       "      <td>Victoriassecret US</td>\n",
       "      <td>Lots of cheek peek, pretty lace, a strappy bac...</td>\n",
       "      <td>NaN</td>\n",
       "      <td>NaN</td>\n",
       "      <td>NaN</td>\n",
       "      <td>[\"XS\", \"S\", \"M\", \"L\", \"XL\"]</td>\n",
       "      <td>S</td>\n",
       "      <td>plum dust</td>\n",
       "    </tr>\n",
       "    <tr>\n",
       "      <th>3</th>\n",
       "      <td>Very Sexy Strappy Lace Thong Panty</td>\n",
       "      <td>$14.50</td>\n",
       "      <td>$14.50</td>\n",
       "      <td>https://www.victoriassecret.com/panties/shop-a...</td>\n",
       "      <td>Victoria's Secret</td>\n",
       "      <td>Strappy Lace Thong Panty</td>\n",
       "      <td>Victoriassecret US</td>\n",
       "      <td>Lots of cheek peek, pretty lace, a strappy bac...</td>\n",
       "      <td>NaN</td>\n",
       "      <td>NaN</td>\n",
       "      <td>NaN</td>\n",
       "      <td>[\"XS\", \"S\", \"M\", \"L\", \"XL\"]</td>\n",
       "      <td>S</td>\n",
       "      <td>ensign blue</td>\n",
       "    </tr>\n",
       "    <tr>\n",
       "      <th>4</th>\n",
       "      <td>Very Sexy Strappy Lace Thong Panty</td>\n",
       "      <td>$14.50</td>\n",
       "      <td>$14.50</td>\n",
       "      <td>https://www.victoriassecret.com/panties/shop-a...</td>\n",
       "      <td>Victoria's Secret</td>\n",
       "      <td>Strappy Lace Thong Panty</td>\n",
       "      <td>Victoriassecret US</td>\n",
       "      <td>Lots of cheek peek, pretty lace, a strappy bac...</td>\n",
       "      <td>NaN</td>\n",
       "      <td>NaN</td>\n",
       "      <td>NaN</td>\n",
       "      <td>[\"XS\", \"S\", \"M\", \"L\", \"XL\"]</td>\n",
       "      <td>S</td>\n",
       "      <td>fair orchid</td>\n",
       "    </tr>\n",
       "    <tr>\n",
       "      <th>5</th>\n",
       "      <td>Very Sexy Strappy Lace Thong Panty</td>\n",
       "      <td>$14.50</td>\n",
       "      <td>$14.50</td>\n",
       "      <td>https://www.victoriassecret.com/panties/shop-a...</td>\n",
       "      <td>Victoria's Secret</td>\n",
       "      <td>Strappy Lace Thong Panty</td>\n",
       "      <td>Victoriassecret US</td>\n",
       "      <td>Lots of cheek peek, pretty lace, a strappy bac...</td>\n",
       "      <td>NaN</td>\n",
       "      <td>NaN</td>\n",
       "      <td>NaN</td>\n",
       "      <td>[\"XS\", \"S\", \"M\", \"L\", \"XL\"]</td>\n",
       "      <td>S</td>\n",
       "      <td>windy blue</td>\n",
       "    </tr>\n",
       "    <tr>\n",
       "      <th>6</th>\n",
       "      <td>Very Sexy Strappy Lace Thong Panty</td>\n",
       "      <td>$14.50</td>\n",
       "      <td>$14.50</td>\n",
       "      <td>https://www.victoriassecret.com/panties/shop-a...</td>\n",
       "      <td>Victoria's Secret</td>\n",
       "      <td>Strappy Lace Thong Panty</td>\n",
       "      <td>Victoriassecret US</td>\n",
       "      <td>Lots of cheek peek, pretty lace, a strappy bac...</td>\n",
       "      <td>NaN</td>\n",
       "      <td>NaN</td>\n",
       "      <td>NaN</td>\n",
       "      <td>[\"XS\", \"S\", \"M\", \"L\", \"XL\"]</td>\n",
       "      <td>S</td>\n",
       "      <td>coconut white</td>\n",
       "    </tr>\n",
       "    <tr>\n",
       "      <th>7</th>\n",
       "      <td>Very Sexy Strappy Lace Thong Panty</td>\n",
       "      <td>$14.50</td>\n",
       "      <td>$14.50</td>\n",
       "      <td>https://www.victoriassecret.com/panties/shop-a...</td>\n",
       "      <td>Victoria's Secret</td>\n",
       "      <td>Strappy Lace Thong Panty</td>\n",
       "      <td>Victoriassecret US</td>\n",
       "      <td>Lots of cheek peek, pretty lace, a strappy bac...</td>\n",
       "      <td>NaN</td>\n",
       "      <td>NaN</td>\n",
       "      <td>NaN</td>\n",
       "      <td>[\"XS\", \"S\", \"M\", \"L\", \"XL\"]</td>\n",
       "      <td>XL</td>\n",
       "      <td>peach melba</td>\n",
       "    </tr>\n",
       "    <tr>\n",
       "      <th>8</th>\n",
       "      <td>Very Sexy Strappy Lace Thong Panty</td>\n",
       "      <td>$14.50</td>\n",
       "      <td>$14.50</td>\n",
       "      <td>https://www.victoriassecret.com/panties/shop-a...</td>\n",
       "      <td>Victoria's Secret</td>\n",
       "      <td>Strappy Lace Thong Panty</td>\n",
       "      <td>Victoriassecret US</td>\n",
       "      <td>Lots of cheek peek, pretty lace, a strappy bac...</td>\n",
       "      <td>NaN</td>\n",
       "      <td>NaN</td>\n",
       "      <td>NaN</td>\n",
       "      <td>[\"XS\", \"S\", \"M\", \"L\", \"XL\"]</td>\n",
       "      <td>XL</td>\n",
       "      <td>black</td>\n",
       "    </tr>\n",
       "    <tr>\n",
       "      <th>9</th>\n",
       "      <td>Very Sexy Strappy Lace Thong Panty</td>\n",
       "      <td>$14.50</td>\n",
       "      <td>$14.50</td>\n",
       "      <td>https://www.victoriassecret.com/panties/shop-a...</td>\n",
       "      <td>Victoria's Secret</td>\n",
       "      <td>Strappy Lace Thong Panty</td>\n",
       "      <td>Victoriassecret US</td>\n",
       "      <td>Lots of cheek peek, pretty lace, a strappy bac...</td>\n",
       "      <td>NaN</td>\n",
       "      <td>NaN</td>\n",
       "      <td>NaN</td>\n",
       "      <td>[\"XS\", \"S\", \"M\", \"L\", \"XL\"]</td>\n",
       "      <td>XL</td>\n",
       "      <td>plum dust</td>\n",
       "    </tr>\n",
       "  </tbody>\n",
       "</table>\n",
       "</div>"
      ],
      "text/plain": [
       "                         product_name      mrp    price  \\\n",
       "0  Very Sexy Strappy Lace Thong Panty  $14.50   $14.50    \n",
       "1  Very Sexy Strappy Lace Thong Panty  $14.50   $14.50    \n",
       "2  Very Sexy Strappy Lace Thong Panty  $14.50   $14.50    \n",
       "3  Very Sexy Strappy Lace Thong Panty  $14.50   $14.50    \n",
       "4  Very Sexy Strappy Lace Thong Panty  $14.50   $14.50    \n",
       "5  Very Sexy Strappy Lace Thong Panty  $14.50   $14.50    \n",
       "6  Very Sexy Strappy Lace Thong Panty  $14.50   $14.50    \n",
       "7  Very Sexy Strappy Lace Thong Panty  $14.50   $14.50    \n",
       "8  Very Sexy Strappy Lace Thong Panty  $14.50   $14.50    \n",
       "9  Very Sexy Strappy Lace Thong Panty  $14.50   $14.50    \n",
       "\n",
       "                                             pdp_url         brand_name  \\\n",
       "0  https://www.victoriassecret.com/panties/shop-a...  Victoria's Secret   \n",
       "1  https://www.victoriassecret.com/panties/shop-a...  Victoria's Secret   \n",
       "2  https://www.victoriassecret.com/panties/shop-a...  Victoria's Secret   \n",
       "3  https://www.victoriassecret.com/panties/shop-a...  Victoria's Secret   \n",
       "4  https://www.victoriassecret.com/panties/shop-a...  Victoria's Secret   \n",
       "5  https://www.victoriassecret.com/panties/shop-a...  Victoria's Secret   \n",
       "6  https://www.victoriassecret.com/panties/shop-a...  Victoria's Secret   \n",
       "7  https://www.victoriassecret.com/panties/shop-a...  Victoria's Secret   \n",
       "8  https://www.victoriassecret.com/panties/shop-a...  Victoria's Secret   \n",
       "9  https://www.victoriassecret.com/panties/shop-a...  Victoria's Secret   \n",
       "\n",
       "           product_category            retailer  \\\n",
       "0  Strappy Lace Thong Panty  Victoriassecret US   \n",
       "1  Strappy Lace Thong Panty  Victoriassecret US   \n",
       "2  Strappy Lace Thong Panty  Victoriassecret US   \n",
       "3  Strappy Lace Thong Panty  Victoriassecret US   \n",
       "4  Strappy Lace Thong Panty  Victoriassecret US   \n",
       "5  Strappy Lace Thong Panty  Victoriassecret US   \n",
       "6  Strappy Lace Thong Panty  Victoriassecret US   \n",
       "7  Strappy Lace Thong Panty  Victoriassecret US   \n",
       "8  Strappy Lace Thong Panty  Victoriassecret US   \n",
       "9  Strappy Lace Thong Panty  Victoriassecret US   \n",
       "\n",
       "                                         description  rating  review_count  \\\n",
       "0  Lots of cheek peek, pretty lace, a strappy bac...     NaN           NaN   \n",
       "1  Lots of cheek peek, pretty lace, a strappy bac...     NaN           NaN   \n",
       "2  Lots of cheek peek, pretty lace, a strappy bac...     NaN           NaN   \n",
       "3  Lots of cheek peek, pretty lace, a strappy bac...     NaN           NaN   \n",
       "4  Lots of cheek peek, pretty lace, a strappy bac...     NaN           NaN   \n",
       "5  Lots of cheek peek, pretty lace, a strappy bac...     NaN           NaN   \n",
       "6  Lots of cheek peek, pretty lace, a strappy bac...     NaN           NaN   \n",
       "7  Lots of cheek peek, pretty lace, a strappy bac...     NaN           NaN   \n",
       "8  Lots of cheek peek, pretty lace, a strappy bac...     NaN           NaN   \n",
       "9  Lots of cheek peek, pretty lace, a strappy bac...     NaN           NaN   \n",
       "\n",
       "   style_attributes                  total_sizes available_size          color  \n",
       "0               NaN  [\"XS\", \"S\", \"M\", \"L\", \"XL\"]              S    peach melba  \n",
       "1               NaN  [\"XS\", \"S\", \"M\", \"L\", \"XL\"]              S          black  \n",
       "2               NaN  [\"XS\", \"S\", \"M\", \"L\", \"XL\"]              S      plum dust  \n",
       "3               NaN  [\"XS\", \"S\", \"M\", \"L\", \"XL\"]              S    ensign blue  \n",
       "4               NaN  [\"XS\", \"S\", \"M\", \"L\", \"XL\"]              S    fair orchid  \n",
       "5               NaN  [\"XS\", \"S\", \"M\", \"L\", \"XL\"]              S     windy blue  \n",
       "6               NaN  [\"XS\", \"S\", \"M\", \"L\", \"XL\"]              S  coconut white  \n",
       "7               NaN  [\"XS\", \"S\", \"M\", \"L\", \"XL\"]             XL    peach melba  \n",
       "8               NaN  [\"XS\", \"S\", \"M\", \"L\", \"XL\"]             XL          black  \n",
       "9               NaN  [\"XS\", \"S\", \"M\", \"L\", \"XL\"]             XL      plum dust  "
      ]
     },
     "execution_count": 4,
     "metadata": {},
     "output_type": "execute_result"
    }
   ],
   "source": [
    "df = pd.read_csv('victoriassecret_com.csv')\n",
    "\n",
    "df.head(10)"
   ]
  },
  {
   "cell_type": "code",
   "execution_count": 5,
   "metadata": {
    "ExecuteTime": {
     "end_time": "2021-01-21T09:11:23.399394Z",
     "start_time": "2021-01-21T09:11:23.212973Z"
    }
   },
   "outputs": [
    {
     "name": "stdout",
     "output_type": "stream",
     "text": [
      "<class 'pandas.core.frame.DataFrame'>\n",
      "RangeIndex: 453386 entries, 0 to 453385\n",
      "Data columns (total 14 columns):\n",
      " #   Column            Non-Null Count   Dtype  \n",
      "---  ------            --------------   -----  \n",
      " 0   product_name      453386 non-null  object \n",
      " 1   mrp               453386 non-null  object \n",
      " 2   price             453386 non-null  object \n",
      " 3   pdp_url           453386 non-null  object \n",
      " 4   brand_name        453386 non-null  object \n",
      " 5   product_category  453386 non-null  object \n",
      " 6   retailer          453386 non-null  object \n",
      " 7   description       453386 non-null  object \n",
      " 8   rating            137734 non-null  float64\n",
      " 9   review_count      137734 non-null  float64\n",
      " 10  style_attributes  0 non-null       float64\n",
      " 11  total_sizes       453386 non-null  object \n",
      " 12  available_size    453386 non-null  object \n",
      " 13  color             453386 non-null  object \n",
      "dtypes: float64(3), object(11)\n",
      "memory usage: 48.4+ MB\n"
     ]
    }
   ],
   "source": [
    "df.info()"
   ]
  },
  {
   "cell_type": "markdown",
   "metadata": {},
   "source": [
    "# Questions to ask: \n",
    "## Ratings and reviews:\n",
    "- What is the relationship between available /total sizes and rating \n",
    "- What is the relationshi between price point and price point vs. mrp and rating? \n",
    "- What is the relationship between rating and product category\n",
    "- What is the relationship betwene rating and color?\n",
    "- What is the relationship between brand_name and rating?\n",
    "- What are any outliers or issues with review_count?\n",
    "\n",
    "## NLP:\n",
    "- What are key words in the description? (Word cloud)\n",
    "- Product name? \n",
    "\n",
    "## Core business question:\n",
    "- What determines rating? (Primary business use case) "
   ]
  },
  {
   "cell_type": "markdown",
   "metadata": {},
   "source": [
    "# General TBD:\n",
    "\n",
    "- Organize into framework like CRISP-DM or OESM\n",
    "- Add more supplementary data \n",
    "- Improve model performance via. feature selection and hyperparams\n",
    "- Improve appearance and professionalism of plotting\n",
    "- Better test/evaluation scaffolding (add in fold validation, baseline modeling, etc.)\n",
    "- Informational text and better display of data \n",
    "- NLP on text columns \n",
    "- Preserve columns currently being dropped \n",
    "- Comparative EDA between brands"
   ]
  },
  {
   "cell_type": "code",
   "execution_count": null,
   "metadata": {},
   "outputs": [],
   "source": [
    "'''\n",
    "Functions sketching out:\n",
    "\n",
    "Get categories of data column = \n",
    "print('Number of categories in the variable Name: {}'.format(\n",
    "    len(data.name.unique())))\n",
    "'''"
   ]
  },
  {
   "cell_type": "code",
   "execution_count": 6,
   "metadata": {
    "ExecuteTime": {
     "end_time": "2021-01-21T09:12:13.468908Z",
     "start_time": "2021-01-21T09:12:13.413057Z"
    },
    "scrolled": true
   },
   "outputs": [
    {
     "data": {
      "text/html": [
       "<div>\n",
       "<style scoped>\n",
       "    .dataframe tbody tr th:only-of-type {\n",
       "        vertical-align: middle;\n",
       "    }\n",
       "\n",
       "    .dataframe tbody tr th {\n",
       "        vertical-align: top;\n",
       "    }\n",
       "\n",
       "    .dataframe thead th {\n",
       "        text-align: right;\n",
       "    }\n",
       "</style>\n",
       "<table border=\"1\" class=\"dataframe\">\n",
       "  <thead>\n",
       "    <tr style=\"text-align: right;\">\n",
       "      <th></th>\n",
       "      <th>rating</th>\n",
       "      <th>review_count</th>\n",
       "      <th>style_attributes</th>\n",
       "    </tr>\n",
       "  </thead>\n",
       "  <tbody>\n",
       "    <tr>\n",
       "      <th>count</th>\n",
       "      <td>137734.000000</td>\n",
       "      <td>1.377340e+05</td>\n",
       "      <td>0.0</td>\n",
       "    </tr>\n",
       "    <tr>\n",
       "      <th>mean</th>\n",
       "      <td>4.165819</td>\n",
       "      <td>9.202884e+35</td>\n",
       "      <td>NaN</td>\n",
       "    </tr>\n",
       "    <tr>\n",
       "      <th>std</th>\n",
       "      <td>0.487524</td>\n",
       "      <td>1.162929e+37</td>\n",
       "      <td>NaN</td>\n",
       "    </tr>\n",
       "    <tr>\n",
       "      <th>min</th>\n",
       "      <td>0.000000</td>\n",
       "      <td>2.000000e+00</td>\n",
       "      <td>NaN</td>\n",
       "    </tr>\n",
       "    <tr>\n",
       "      <th>25%</th>\n",
       "      <td>4.000000</td>\n",
       "      <td>3.900000e+01</td>\n",
       "      <td>NaN</td>\n",
       "    </tr>\n",
       "    <tr>\n",
       "      <th>50%</th>\n",
       "      <td>4.300000</td>\n",
       "      <td>1.470000e+02</td>\n",
       "      <td>NaN</td>\n",
       "    </tr>\n",
       "    <tr>\n",
       "      <th>75%</th>\n",
       "      <td>4.500000</td>\n",
       "      <td>4.100000e+02</td>\n",
       "      <td>NaN</td>\n",
       "    </tr>\n",
       "    <tr>\n",
       "      <th>max</th>\n",
       "      <td>5.000000</td>\n",
       "      <td>1.560000e+38</td>\n",
       "      <td>NaN</td>\n",
       "    </tr>\n",
       "  </tbody>\n",
       "</table>\n",
       "</div>"
      ],
      "text/plain": [
       "              rating  review_count  style_attributes\n",
       "count  137734.000000  1.377340e+05               0.0\n",
       "mean        4.165819  9.202884e+35               NaN\n",
       "std         0.487524  1.162929e+37               NaN\n",
       "min         0.000000  2.000000e+00               NaN\n",
       "25%         4.000000  3.900000e+01               NaN\n",
       "50%         4.300000  1.470000e+02               NaN\n",
       "75%         4.500000  4.100000e+02               NaN\n",
       "max         5.000000  1.560000e+38               NaN"
      ]
     },
     "execution_count": 6,
     "metadata": {},
     "output_type": "execute_result"
    }
   ],
   "source": [
    "df.describe()"
   ]
  },
  {
   "cell_type": "markdown",
   "metadata": {},
   "source": [
    "### Rating and review_count are correlated as missing values, there are no style_attributes"
   ]
  },
  {
   "cell_type": "code",
   "execution_count": 17,
   "metadata": {
    "ExecuteTime": {
     "end_time": "2021-01-21T09:15:10.380149Z",
     "start_time": "2021-01-21T09:15:09.561313Z"
    }
   },
   "outputs": [
    {
     "data": {
      "text/plain": [
       "<matplotlib.axes._subplots.AxesSubplot at 0x1a22245a50>"
      ]
     },
     "execution_count": 17,
     "metadata": {},
     "output_type": "execute_result"
    },
    {
     "data": {
      "image/png": "[encoded data removed]",
      "text/plain": [
       "<Figure size 1728x720 with 3 Axes>"
      ]
     },
     "metadata": {},
     "output_type": "display_data"
    }
   ],
   "source": [
    "msno.bar(df.sample(1000))"
   ]
  },
  {
   "cell_type": "markdown",
   "metadata": {},
   "source": [
    "### Url isn't very useful, will drop"
   ]
  },
  {
   "cell_type": "markdown",
   "metadata": {},
   "source": [
    "# Examining the columns"
   ]
  },
  {
   "cell_type": "markdown",
   "metadata": {},
   "source": [
    "# Product name"
   ]
  },
  {
   "cell_type": "markdown",
   "metadata": {},
   "source": [
    "### Candidate for encoding-- product_name"
   ]
  },
  {
   "cell_type": "code",
   "execution_count": 7,
   "metadata": {
    "ExecuteTime": {
     "end_time": "2021-01-21T09:12:22.299436Z",
     "start_time": "2021-01-21T09:12:22.249885Z"
    }
   },
   "outputs": [
    {
     "data": {
      "text/plain": [
       "Body by Victoria Perfect Coverage Bra              17922\n",
       "Victoria Sport Incredible by Victoria Sport Bra    12274\n",
       "Dream Angels Push-Up Bra                           11878\n",
       "Very Sexy Push-Up Bra                              10985\n",
       "Body by Victoria Demi Bra                          10881\n",
       "                                                   ...  \n",
       "Cotton Lingerie Soft & Smooth Cheeky Panty             5\n",
       "Very Sexy Embroidered Triangle Bra                     4\n",
       "PINK Coconut Waters Travel Kit                         3\n",
       "PINK Fresh & Clean Gym Kit                             3\n",
       "Very Sexy Heart Lace Garter Belt                       2\n",
       "Name: product_name, Length: 617, dtype: int64"
      ]
     },
     "execution_count": 7,
     "metadata": {},
     "output_type": "execute_result"
    }
   ],
   "source": [
    "df.product_name.value_counts()"
   ]
  },
  {
   "cell_type": "markdown",
   "metadata": {},
   "source": [
    "### Problem: high cardinality, could be solved by NLP maybe to categorize?"
   ]
  },
  {
   "cell_type": "code",
   "execution_count": 23,
   "metadata": {
    "ExecuteTime": {
     "end_time": "2021-01-21T09:18:37.578274Z",
     "start_time": "2021-01-21T09:18:37.523767Z"
    }
   },
   "outputs": [
    {
     "data": {
      "text/plain": [
       "617"
      ]
     },
     "execution_count": 23,
     "metadata": {},
     "output_type": "execute_result"
    }
   ],
   "source": [
    "df.product_name.nunique()"
   ]
  },
  {
   "cell_type": "markdown",
   "metadata": {},
   "source": [
    "### Needs stopword removal"
   ]
  },
  {
   "cell_type": "code",
   "execution_count": 74,
   "metadata": {
    "ExecuteTime": {
     "end_time": "2021-01-21T10:42:47.578149Z",
     "start_time": "2021-01-21T10:42:46.817224Z"
    }
   },
   "outputs": [
    {
     "name": "stderr",
     "output_type": "stream",
     "text": [
      "[nltk_data] Downloading package stopwords to\n",
      "[nltk_data]     /Users/michaelburak/nltk_data...\n",
      "[nltk_data]   Package stopwords is already up-to-date!\n"
     ]
    }
   ],
   "source": [
    "#https://stackabuse.com/removing-stop-words-from-strings-in-python/\n",
    "from nltk.corpus import stopwords\n",
    "nltk.download('stopwords')\n",
    "from nltk.tokenize import word_tokenize\n",
    "# source : https://stackoverflow.com/questions/48049087/nltk-based-text-processing-with-pandas/48049425#48049425\n",
    "import nltk\n",
    "import re\n",
    "\n",
    "# s_words = stopwords.words()\n",
    "\n",
    "def preprocess(x):\n",
    "    x = re.sub('[^a-z\\s]', '', x.lower())                  # get rid of noise\n",
    "#     x = [w for w in x.split() if w not in stopwords.words()]  # remove stopwords\n",
    "    return x                                     # join the list\n",
    "\n",
    "df['clean_pn'] = df['product_name'].apply(preprocess)\n",
    "df['clean_pn']"
   ]
  },
  {
   "cell_type": "code",
   "execution_count": 77,
   "metadata": {
    "ExecuteTime": {
     "end_time": "2021-01-21T10:45:02.576850Z",
     "start_time": "2021-01-21T10:45:02.488165Z"
    }
   },
   "outputs": [
    {
     "data": {
      "text/plain": [
       "0         [very, sexy, strappy, lace, thong, panty]\n",
       "1         [very, sexy, strappy, lace, thong, panty]\n",
       "2         [very, sexy, strappy, lace, thong, panty]\n",
       "3         [very, sexy, strappy, lace, thong, panty]\n",
       "4         [very, sexy, strappy, lace, thong, panty]\n",
       "                            ...                    \n",
       "453381       [dream, angels, new, lace, mini, slip]\n",
       "453382       [dream, angels, new, lace, mini, slip]\n",
       "453383       [dream, angels, new, lace, mini, slip]\n",
       "453384       [dream, angels, new, lace, mini, slip]\n",
       "453385       [dream, angels, new, lace, mini, slip]\n",
       "Name: clean_pn, Length: 453386, dtype: object"
      ]
     },
     "execution_count": 77,
     "metadata": {},
     "output_type": "execute_result"
    }
   ],
   "source": [
    "df['clean_pn'] = df.apply(lambda row: nltk.word_tokenize(row['clean_pn']), axis=1)\n",
    "\n",
    "df['clean_pn']"
   ]
  },
  {
   "cell_type": "code",
   "execution_count": 80,
   "metadata": {
    "ExecuteTime": {
     "end_time": "2021-01-21T10:49:52.219913Z",
     "start_time": "2021-01-21T10:49:51.704325Z"
    }
   },
   "outputs": [
    {
     "data": {
      "text/plain": [
       "1    315157\n",
       "0    138229\n",
       "Name: bra, dtype: int64"
      ]
     },
     "execution_count": 80,
     "metadata": {},
     "output_type": "execute_result"
    }
   ],
   "source": [
    "# df.clean_pn.str.contains('bra', regex=False).value_counts()\n",
    "# # bra_boolean = df.product_name.str.contains('Bra', regex=False)\n",
    "\n",
    "df['bra'] = [1 if x == True else 0 for x in df.clean_pn.str.contains('bra', regex=False)]\n",
    "\n",
    "df.bra.value_counts()"
   ]
  },
  {
   "cell_type": "code",
   "execution_count": 90,
   "metadata": {
    "ExecuteTime": {
     "end_time": "2021-01-21T10:58:17.518970Z",
     "start_time": "2021-01-21T10:58:09.809529Z"
    },
    "scrolled": true
   },
   "outputs": [
    {
     "data": {
      "text/plain": [
       "bra           0.120123\n",
       "victoria      0.072911\n",
       "new           0.072485\n",
       "sport         0.059694\n",
       "by            0.050585\n",
       "pushup        0.042505\n",
       "pink          0.038982\n",
       "body          0.027181\n",
       "sexy          0.025588\n",
       "lace          0.024746\n",
       "bralette      0.022509\n",
       "the           0.021172\n",
       "demi          0.020046\n",
       "angels        0.018390\n",
       "dream         0.018390\n",
       "everywhere    0.018252\n",
       "wear          0.018252\n",
       "very          0.017638\n",
       "perfect       0.016627\n",
       "panty         0.016558\n",
       "frontclose    0.011530\n",
       "incredible    0.011111\n",
       "tshirt        0.010106\n",
       "coverage      0.009438\n",
       "collection    0.008225\n",
       "unlined       0.008129\n",
       "thong         0.007368\n",
       "strappy       0.006549\n",
       "cotton        0.006238\n",
       "lingerie      0.006212\n",
       "dtype: float64"
      ]
     },
     "execution_count": 90,
     "metadata": {},
     "output_type": "execute_result"
    }
   ],
   "source": [
    "s = pd.Series(np.concatenate(df['clean_pn'])).value_counts(normalize=True)[:30]\n",
    "s"
   ]
  },
  {
   "cell_type": "code",
   "execution_count": null,
   "metadata": {},
   "outputs": [],
   "source": [
    "#words to make boolean columns\n",
    "# sport, pushup\n",
    "#pink\n",
    "#sexy, lace\n",
    "# new\n",
    "#panty, thong"
   ]
  },
  {
   "cell_type": "markdown",
   "metadata": {},
   "source": [
    "## pdp_url"
   ]
  },
  {
   "cell_type": "code",
   "execution_count": 8,
   "metadata": {
    "ExecuteTime": {
     "end_time": "2021-01-21T09:12:29.540130Z",
     "start_time": "2021-01-21T09:12:29.493604Z"
    },
    "scrolled": false
   },
   "outputs": [
    {
     "data": {
      "text/plain": [
       "https://www.victoriassecret.com/bras/shop-all-bras/perfect-coverage-bra-body-by-victoria?ProductID=332957&CatalogueType=OLS                                           4531\n",
       "https://www.victoriassecret.com/victorias-secret-sport/shop-all/knockout-by-victoria-sport-front-close-sport-bra-victoria-sport?ProductID=328521&CatalogueType=OLS    4027\n",
       "https://www.victoriassecret.com/victorias-secret-sport/shop-all/incredible-by-victoria-sport-bra-victoria-sport?ProductID=336501&CatalogueType=OLS                    3908\n",
       "https://www.victoriassecret.com/bras/shop-all-bras/push-up-bra-very-sexy?ProductID=331335&CatalogueType=OLS                                                           3594\n",
       "https://www.victoriassecret.com/bras/shop-all-bras/perfect-coverage-bra-body-by-victoria?ProductID=328797&CatalogueType=OLS                                           3552\n",
       "                                                                                                                                                                      ... \n",
       "https://www.victoriassecret.com/bras/bralette/embroidered-triangle-bra-very-sexy?ProductID=336245&CatalogueType=OLS                                                      4\n",
       "https://www.victoriassecret.com/pink/apparel-activewear/coconut-waters-travel-kit-pink?ProductID=331400&CatalogueType=OLS                                                3\n",
       "https://www.victoriassecret.com/pink/apparel-activewear/fresh-clean-gym-kit-pink?ProductID=253900&CatalogueType=OLS                                                      3\n",
       "https://www.victoriassecret.com/panties/shop-all-panties/bikini-panty-cotton-lingerie?ProductID=336287&CatalogueType=OLS                                                 2\n",
       "https://www.victoriassecret.com/panties/shop-all-panties/heart-lace-garter-belt-very-sexy?ProductID=320112&CatalogueType=OLS&colorCode=AQA                               2\n",
       "Name: pdp_url, Length: 1444, dtype: int64"
      ]
     },
     "execution_count": 8,
     "metadata": {},
     "output_type": "execute_result"
    }
   ],
   "source": [
    "df.pdp_url.value_counts()"
   ]
  },
  {
   "cell_type": "markdown",
   "metadata": {},
   "source": [
    "### Candidate for encoding-- brand_name"
   ]
  },
  {
   "cell_type": "markdown",
   "metadata": {},
   "source": [
    "## brand_name -- to be mapped to 0 and 1"
   ]
  },
  {
   "cell_type": "code",
   "execution_count": 9,
   "metadata": {
    "ExecuteTime": {
     "end_time": "2021-01-21T09:12:37.137456Z",
     "start_time": "2021-01-21T09:12:37.090816Z"
    },
    "scrolled": true
   },
   "outputs": [
    {
     "data": {
      "text/plain": [
       "Victoria's Secret         342533\n",
       "Victoria's Secret Pink    110853\n",
       "Name: brand_name, dtype: int64"
      ]
     },
     "execution_count": 9,
     "metadata": {},
     "output_type": "execute_result"
    }
   ],
   "source": [
    "df.brand_name.value_counts()"
   ]
  },
  {
   "cell_type": "code",
   "execution_count": 10,
   "metadata": {
    "ExecuteTime": {
     "end_time": "2021-01-21T09:12:40.504200Z",
     "start_time": "2021-01-21T09:12:40.171730Z"
    }
   },
   "outputs": [
    {
     "data": {
      "image/png": "[encoded data removed]",
      "text/plain": [
       "<Figure size 432x288 with 1 Axes>"
      ]
     },
     "metadata": {},
     "output_type": "display_data"
    }
   ],
   "source": [
    "sns.countplot(y=df.brand_name)\n",
    "fig = plt.gcf()\n",
    "ax = plt.gca()\n",
    "ax.set_title(\"Brand Names Sold At Victoria Secret By Product Count\")\n",
    "ax.set_ylabel(\"Brand Name\")\n",
    "# plt.tight_layout()\n",
    "plt.show()"
   ]
  },
  {
   "cell_type": "markdown",
   "metadata": {},
   "source": [
    "## product_category"
   ]
  },
  {
   "cell_type": "markdown",
   "metadata": {},
   "source": [
    "### Candidate for encoding -- product_category"
   ]
  },
  {
   "cell_type": "code",
   "execution_count": 11,
   "metadata": {
    "ExecuteTime": {
     "end_time": "2021-01-21T09:12:48.443756Z",
     "start_time": "2021-01-21T09:12:48.402744Z"
    },
    "scrolled": false
   },
   "outputs": [
    {
     "data": {
      "text/plain": [
       "Demi Bra                            39865\n",
       "Push-Up Bra                         36452\n",
       "Perfect Coverage Bra                24762\n",
       "Incredible by Victoria Sport Bra    19437\n",
       "Wear Everywhere Push-Up Bra         17438\n",
       "                                    ...  \n",
       "Lace-up Pleated Slip                    5\n",
       "Embroidered Triangle Bra                4\n",
       "Fresh & Clean Gym Kit                   3\n",
       "Coconut Waters Travel Kit               3\n",
       "Heart Lace Garter Belt                  2\n",
       "Name: product_category, Length: 455, dtype: int64"
      ]
     },
     "execution_count": 11,
     "metadata": {},
     "output_type": "execute_result"
    }
   ],
   "source": [
    "df.product_category.value_counts()"
   ]
  },
  {
   "cell_type": "markdown",
   "metadata": {},
   "source": [
    "    It's bras all the way down."
   ]
  },
  {
   "cell_type": "code",
   "execution_count": 12,
   "metadata": {
    "ExecuteTime": {
     "end_time": "2021-01-21T09:13:00.267108Z",
     "start_time": "2021-01-21T09:12:59.818167Z"
    },
    "scrolled": true
   },
   "outputs": [
    {
     "data": {
      "image/png": "[encoded data removed]",
      "text/plain": [
       "<Figure size 432x288 with 1 Axes>"
      ]
     },
     "metadata": {},
     "output_type": "display_data"
    }
   ],
   "source": [
    "sns.countplot(y=df.product_category,order=df.product_category.value_counts().iloc[:10].index)\n",
    "fig = plt.gcf()\n",
    "ax = plt.gca() \n",
    "ax.set_title(\"Top 10 Product Categories: Victoria Secret\")\n",
    "ax.set_ylabel(\"Product Category\")\n",
    "ax.set_xlabel(\"Product Count\")\n",
    "fig.savefig(\"top-10-product-categories.png\", bbox_inches='tight')\n",
    "plt.show()"
   ]
  },
  {
   "cell_type": "markdown",
   "metadata": {},
   "source": [
    "## Retailer"
   ]
  },
  {
   "cell_type": "markdown",
   "metadata": {},
   "source": [
    "### Same value column, to be dropped -- retailer"
   ]
  },
  {
   "cell_type": "code",
   "execution_count": 13,
   "metadata": {
    "ExecuteTime": {
     "end_time": "2021-01-21T09:13:05.666900Z",
     "start_time": "2021-01-21T09:13:05.617440Z"
    }
   },
   "outputs": [
    {
     "data": {
      "text/plain": [
       "Victoriassecret US    453386\n",
       "Name: retailer, dtype: int64"
      ]
     },
     "execution_count": 13,
     "metadata": {},
     "output_type": "execute_result"
    }
   ],
   "source": [
    "df.retailer.value_counts()"
   ]
  },
  {
   "cell_type": "markdown",
   "metadata": {},
   "source": [
    "## Description -- TBD: NLP analysis"
   ]
  },
  {
   "cell_type": "code",
   "execution_count": 14,
   "metadata": {
    "ExecuteTime": {
     "end_time": "2021-01-21T09:13:20.049202Z",
     "start_time": "2021-01-21T09:13:19.978657Z"
    }
   },
   "outputs": [
    {
     "data": {
      "text/plain": [
       "Our fullest coverage and our sexiest comfort meet in this supersoft bra with lighter Memory Fit lining that conforms to your curves and a smoothing U-shaped back and sides. Lift & Lining Lightly lined for shape Full coverage underwire cups Straps & Hooks Adjustable straps can convert to crossback and snap into place for a secure hold Back closure Double row of hook-and-eye closures; Sizes 34DDD, 36DD-36DDD, 38-40D-DDD & 40C have triple row of closures for a secure, comfortable fit 4 settings to ensure a perfect fit Details & Fabric U-shaped ballet back prevents band from riding up and offers more coverage Supersoft, double-lined sides for the smoothest shape Imported nylon/spandex    18529\n",
       "An everyday fave with soft, no-show cups and a super comfortable fit! Most push Super soft pad and smooth no-show cups Fully adjustable straps­–wear it classic or crossback Structured, underwire cups Hook-and-eye closure Imported nylon/spandex                                                                                                                                                                                                                                                                                                                                                                                                                                                                  15190\n",
       "Click, zip, go! Patented bra-within-a-bra technology offers maximum support: a front zip reveals structured cups that clip together for easy on, easy off…and no bounce.    Details Maximum support Patented, bra-within-a-bra technology Click & zip within a bra; double layer front closure provides a secure fit Concealed wire for cushioned support Breathable padding with wicking liner to keep you extra dry Adjustable padded straps Performance & Fabric Perfect for running, boxing and cardio Super-soft elastic band for comfort & movement Body-Wick keeps you cool & dry Machine wash. Tumble dry Imported nylon/spandex                                                                             14887\n",
       "This dreamy demi is even more heavenly, with softer Memory Fit lining that conforms to your curves, a smoothing U-shaped back and stretchier lace sides for a flawless, ultra-comfy fit.Lift & Lining Lightly lined for shape Underwire cupsStraps & Hooks Adjustable straps can convert to crossback and snap into place for a secure hold Back closure Double row of hook and eye closures; sizes 36-40DD-DDD have triple row of hook and eye closures for a secure, comfortable fit 4 settings to ensure a perfect fitDetails & Fabric U-shaped ballet back prevents band from riding up Stretchy lace sides Imported nylon/spandex                                                                               11524\n",
       "Our #1 push-up is sexier than ever with plush, even softer padding for the lift and cleavage you love and a more natural feel, plus edges that disappear under clothes.Lift & Lining Push-up padding adds 1 cup size Underwire cupsStraps & Hooks Fully adjustable straps Back closure Double row of hook-and-eye closures 4 settings to ensure a perfect fit Can be worn classic or crossbackDetails & Fabric Supersmooth neckline disappears under clothes Cutouts between cups VS charm on side of cup Imported nylon/spandex                                                                                                                                                                                     11307\n",
       "                                                                                                                                                                                                                                                                                                                                                                                                                                                                                                                                                                                                                                                                                                                     ...  \n",
       "Cutouts in all the right places frame this thoroughly modern bodysuit in sheer lace.   Lightly lined Pulls on; no closure Cap sleeves Elastic waist Cheeky bottom Imported nylon/spandex/cotton                                                                                                                                                                                                                                                                                                                                                                                                                                                                                                                          5\n",
       "Love triangle: this wireless bra wins hearts with a wireless shape in the flirtiest embroidery. Lift & Lining Unlined Wireless cups   Straps & Hooks Elastic adjustable straps  Back closure   Details & Fabric Heart embroidered cups with top cutout Back triangle embroidery detail Imported polyester/nylon                                                                                                                                                                                                                                                                                                                                                                                                          4\n",
       "A fresh scent, a super-cute bag and everything else you need to work out and clean up. Fragrance type: Fresh Notes: Fresh apple and lily 11\"L x 3\"W x 5\"H $58 value Domestic. Bag: Imported nylon/mesh   Includes: Fresh & Clean Body Lotion: 100 ml/3.4 fl. oz. Fresh & Clean Body Mist: 75 ml/2.5 fl. oz. Fresh & Clean 2-in-1 Wash & Scrub: 100 ml/3.4 fl. oz. Zip bag Hair ties Gym socks Comb                                                                                                                                                                                                                                                                                                                       3\n",
       "Bright days. Big waves. Make a splash with PINK minis in a limited-edition summer scent, starring warm notes of apple blossom and coconut waters. Fragrance type: Warm Notes:  Apple blossom and coconut waters Limited edition Domestic $42 value Includes: Mini mist: 75 ml/2.5 fl. oz. Mini lotion: 75 ml/2.5 fl. oz. Mini shimmer mist: 75 ml/2.5 fl. oz.                                                                                                                                                                                                                                                                                                                                                            3\n",
       "Queen of hearts: this daring garter belt starring heart lace, cutouts and a glimmering charm. Heart charm at center Cutout details Swan-hookgarters Imported polyester/nylon/spandex Hand wash                                                                                                                                                                                                                                                                                                                                                                                                                                                                                                                           2\n",
       "Name: description, Length: 550, dtype: int64"
      ]
     },
     "execution_count": 14,
     "metadata": {},
     "output_type": "execute_result"
    }
   ],
   "source": [
    "df.description.value_counts()"
   ]
  },
  {
   "cell_type": "markdown",
   "metadata": {
    "ExecuteTime": {
     "end_time": "2020-12-26T14:17:52.268848Z",
     "start_time": "2020-12-26T14:17:52.264418Z"
    }
   },
   "source": [
    "## Rating"
   ]
  },
  {
   "cell_type": "markdown",
   "metadata": {},
   "source": [
    "### As shown above, the majority of ratings(and review counts consequently) are NaN"
   ]
  },
  {
   "cell_type": "code",
   "execution_count": 15,
   "metadata": {
    "ExecuteTime": {
     "end_time": "2021-01-21T09:13:29.670987Z",
     "start_time": "2021-01-21T09:13:29.657270Z"
    },
    "scrolled": true
   },
   "outputs": [
    {
     "data": {
      "text/plain": [
       "NaN    315652\n",
       "4.4     24787\n",
       "4.5     20185\n",
       "4.3     20007\n",
       "4.0     12024\n",
       "4.2      8484\n",
       "4.6      7271\n",
       "3.7      7044\n",
       "3.9      6132\n",
       "4.1      5158\n",
       "3.8      4618\n",
       "3.2      4001\n",
       "3.6      3927\n",
       "4.7      2929\n",
       "4.8      2330\n",
       "3.3      2315\n",
       "5.0      1499\n",
       "3.5      1276\n",
       "1.0       859\n",
       "4.9       807\n",
       "3.0       423\n",
       "2.9       350\n",
       "2.6       324\n",
       "3.1       312\n",
       "3.4       193\n",
       "2.8       175\n",
       "0.0       112\n",
       "2.0        60\n",
       "2.7        54\n",
       "2.5        48\n",
       "2.3        18\n",
       "2.4        12\n",
       "Name: rating, dtype: int64"
      ]
     },
     "execution_count": 15,
     "metadata": {},
     "output_type": "execute_result"
    }
   ],
   "source": [
    "df.rating.value_counts(dropna=False)"
   ]
  },
  {
   "cell_type": "markdown",
   "metadata": {},
   "source": [
    "## Review count"
   ]
  },
  {
   "cell_type": "code",
   "execution_count": 18,
   "metadata": {
    "ExecuteTime": {
     "end_time": "2021-01-21T09:16:17.019681Z",
     "start_time": "2021-01-21T09:16:16.998616Z"
    }
   },
   "outputs": [
    {
     "data": {
      "text/plain": [
       "NaN      315652\n",
       "507.0      3098\n",
       "398.0      3097\n",
       "4.0        2625\n",
       "33.0       2224\n",
       "          ...  \n",
       "240.0        10\n",
       "119.0        10\n",
       "241.0        10\n",
       "324.0         6\n",
       "467.0         5\n",
       "Name: review_count, Length: 338, dtype: int64"
      ]
     },
     "execution_count": 18,
     "metadata": {},
     "output_type": "execute_result"
    }
   ],
   "source": [
    "df.review_count.value_counts(dropna=False)"
   ]
  },
  {
   "cell_type": "markdown",
   "metadata": {},
   "source": [
    "## Total sizes"
   ]
  },
  {
   "cell_type": "code",
   "execution_count": 19,
   "metadata": {
    "ExecuteTime": {
     "end_time": "2021-01-21T09:16:34.152016Z",
     "start_time": "2021-01-21T09:16:34.100872Z"
    },
    "scrolled": false
   },
   "outputs": [
    {
     "data": {
      "text/plain": [
       "[\"XS\", \"S\", \"M\", \"L\", \"XL\"]                                                                                                                                                                                                                                                       87096\n",
       "[\"32A\", \"32B\", \"32C\", \"32D\", \"32DD\", \"32DDD\", \"34A\", \"34B\", \"34C\", \"34D\", \"34DD\", \"34DDD\", \"36A\", \"36B\", \"36C\", \"36D\", \"36DD\", \"36DDD\", \"38A\", \"38B\", \"38C\", \"38D\", \"38DD\", \"38DDD\", \"40A\", \"40B\", \"40C\", \"40D\", \"40DD\", \"40DDD\"]                                                 54094\n",
       "[\"30A\", \"30B\", \"30C\", \"30D\", \"30DD\", \"30DDD\", \"32A\", \"32B\", \"32C\", \"32D\", \"32DD\", \"32DDD\", \"34A\", \"34B\", \"34C\", \"34D\", \"34DD\", \"34DDD\", \"36A\", \"36B\", \"36C\", \"36D\", \"36DD\", \"36DDD\", \"38A\", \"38B\", \"38C\", \"38D\", \"38DD\", \"38DDD\", \"40A\", \"40B\", \"40C\", \"40D\", \"40DD\", \"40DDD\"]    51687\n",
       "[\"30AA\", \"30A\", \"30B\", \"30C\", \"30D\", \"30DD\", \"32AA\", \"32A\", \"32B\", \"32C\", \"32D\", \"32DD\", \"34AA\", \"34A\", \"34B\", \"34C\", \"34D\", \"34DD\", \"36AA\", \"36A\", \"36B\", \"36C\", \"36D\", \"36DD\"]                                                                                                  48941\n",
       "[\"XS\", \"S\", \"M\", \"L\"]                                                                                                                                                                                                                                                             47708\n",
       "[\"32B\", \"32C\", \"32D\", \"32DD\", \"32DDD\", \"34B\", \"34C\", \"34D\", \"34DD\", \"34DDD\", \"36B\", \"36C\", \"36D\", \"36DD\", \"36DDD\", \"38B\", \"38C\", \"38D\", \"38DD\", \"38DDD\", \"40B\", \"40C\", \"40D\", \"40DD\", \"40DDD\"]                                                                                    35736\n",
       "[\"32A\", \"32B\", \"32C\", \"32D\", \"32DD\", \"34A\", \"34B\", \"34C\", \"34D\", \"34DD\", \"36A\", \"36B\", \"36C\", \"36D\", \"36DD\", \"38A\", \"38B\", \"38C\", \"38D\", \"38DD\"]                                                                                                                                  32516\n",
       "[\"32A\", \"32B\", \"32C\", \"32D\", \"32DD\", \"32DDD\", \"34A\", \"34B\", \"34C\", \"34D\", \"34DD\", \"34DDD\", \"36A\", \"36B\", \"36C\", \"36D\", \"36DD\", \"36DDD\", \"38A\", \"38B\", \"38C\", \"38D\", \"38DD\", \"38DDD\"]                                                                                              24061\n",
       "[\"32A\", \"32B\", \"32C\", \"32D\", \"32DD\", \"34A\", \"34B\", \"34C\", \"34D\", \"34DD\", \"36A\", \"36B\", \"36C\", \"36D\", \"36DD\"]                                                                                                                                                                      16864\n",
       "[\"32AA\", \"32A\", \"32B\", \"32C\", \"32D\", \"32DD\", \"34AA\", \"34A\", \"34B\", \"34C\", \"34D\", \"34DD\", \"36AA\", \"36A\", \"36B\", \"36C\", \"36D\", \"36DD\"]                                                                                                                                              14673\n",
       "[\"30A\", \"30B\", \"30C\", \"30D\", \"30DD\", \"30DDD\", \"32A\", \"32B\", \"32C\", \"32D\", \"32DD\", \"32DDD\", \"34A\", \"34B\", \"34C\", \"34D\", \"34DD\", \"34DDD\", \"36A\", \"36B\", \"36C\", \"36D\", \"36DD\", \"36DDD\", \"38A\", \"38B\", \"38C\", \"38D\", \"38DD\", \"38DDD\"]                                                 14048\n",
       "[\"30AA\", \"30A\", \"30B\", \"30C\", \"30D\", \"30DD\", \"32AA\", \"32A\", \"32B\", \"32C\", \"32D\", \"32DD\", \"34AA\", \"34A\", \"34B\", \"34C\", \"34D\", \"34DD\", \"36AA\", \"36A\", \"36B\", \"36C\", \"36D\", \"36DD\", \"38AA\", \"38A\", \"38B\", \"38C\", \"38D\", \"38DD\"]                                                       6229\n",
       "[\"32B\", \"32C\", \"32D\", \"32DD\", \"34B\", \"34C\", \"34D\", \"34DD\", \"36B\", \"36C\", \"36D\", \"36DD\", \"38B\", \"38C\", \"38D\", \"38DD\", \"40B\", \"40C\", \"40D\", \"40DD\"]                                                                                                                                  5447\n",
       "[\"32B\", \"32C\", \"32D\", \"32DD\", \"32DDD\", \"34B\", \"34C\", \"34D\", \"34DD\", \"34DDD\", \"36B\", \"36C\", \"36D\", \"36DD\", \"36DDD\", \"38B\", \"38C\", \"38D\", \"38DD\", \"38DDD\"]                                                                                                                           2498\n",
       "[\"32B\", \"32C\", \"32D\", \"32DD\", \"34B\", \"34C\", \"34D\", \"34DD\", \"36B\", \"36C\", \"36D\", \"36DD\"]                                                                                                                                                                                            2382\n",
       "[\"30A\", \"30B\", \"30C\", \"30D\", \"30DD\", \"32A\", \"32B\", \"32C\", \"32D\", \"32DD\", \"34A\", \"34B\", \"34C\", \"34D\", \"34DD\", \"36A\", \"36B\", \"36C\", \"36D\", \"36DD\", \"38A\", \"38B\", \"38C\", \"38D\", \"38DD\"]                                                                                               2361\n",
       "[\"S\", \"M\", \"L\"]                                                                                                                                                                                                                                                                    1959\n",
       "[\"32AA\", \"32A\", \"32B\", \"32C\", \"32D\", \"32DD\", \"34AA\", \"34A\", \"34B\", \"34C\", \"34D\", \"34DD\", \"36AA\", \"36A\", \"36B\", \"36C\", \"36D\", \"36DD\", \"38AA\", \"38A\", \"38B\", \"38C\", \"38D\", \"38DD\"]                                                                                                   1326\n",
       "[\"32A\", \"32B\", \"32C\", \"32D\", \"34A\", \"34B\", \"34C\", \"34D\", \"36A\", \"36B\", \"36C\", \"36D\"]                                                                                                                                                                                               1043\n",
       "[\"30A\", \"30B\", \"30C\"]                                                                                                                                                                                                                                                               949\n",
       "[\"32B\", \"32C\", \"32D\", \"32DD\", \"34B\", \"34C\", \"34D\", \"34DD\", \"36B\", \"36C\", \"36D\", \"36DD\", \"38B\", \"38C\", \"38D\", \"38DD\"]                                                                                                                                                                835\n",
       "[\"XS/S\", \"M/L \"]                                                                                                                                                                                                                                                                    399\n",
       "[]                                                                                                                                                                                                                                                                                  147\n",
       "[\"32B\", \"32C\", \"32D\", \"34B\", \"34C\", \"34D\", \"36B\", \"36C\", \"36D\"]                                                                                                                                                                                                                     132\n",
       "[\"32B\", \"32C\", \"32D\", \"32DD\", \"34B\", \"34C\", \"34D\", \"34DD\"]                                                                                                                                                                                                                           78\n",
       "[\"30A\", \"30B\", \"30C\", \"30DD\", \"30DDD\", \"32A\", \"32B\", \"32C\", \"32DD\", \"32DDD\", \"34A\", \"34B\", \"34C\", \"34DD\", \"34DDD\", \"36A\", \"36B\", \"36C\", \"36DD\", \"36DDD\", \"38A\", \"38B\", \"38C\", \"38DD\", \"38DDD\"]                                                                                       48\n",
       "[\"AA/A\", \"B/C\", \"D/DD\"]                                                                                                                                                                                                                                                              45\n",
       "[\"32B\", \"32C\", \"32D\", \"34B\", \"34C\", \"34D\", \"36B\", \"36C\", \"36D\", \"38B\", \"38C\", \"38D\"]                                                                                                                                                                                                 42\n",
       "[\"S\", \"M\", \"L\", \"XL\"]                                                                                                                                                                                                                                                                32\n",
       "[\"XS\"]                                                                                                                                                                                                                                                                               10\n",
       "Name: total_sizes, dtype: int64"
      ]
     },
     "execution_count": 19,
     "metadata": {},
     "output_type": "execute_result"
    }
   ],
   "source": [
    "df.total_sizes.value_counts()"
   ]
  },
  {
   "cell_type": "markdown",
   "metadata": {},
   "source": [
    "### Candidate for encoding: total_sizes, 30 unique total size combinations"
   ]
  },
  {
   "cell_type": "code",
   "execution_count": 20,
   "metadata": {
    "ExecuteTime": {
     "end_time": "2021-01-21T09:17:05.278261Z",
     "start_time": "2021-01-21T09:17:05.194753Z"
    }
   },
   "outputs": [
    {
     "data": {
      "text/plain": [
       "30"
      ]
     },
     "execution_count": 20,
     "metadata": {},
     "output_type": "execute_result"
    }
   ],
   "source": [
    "# 2nd dummy variable -- brand_name, total_sizes(30 values)\n",
    "df.total_sizes.nunique()"
   ]
  },
  {
   "cell_type": "markdown",
   "metadata": {},
   "source": [
    "## Available sizes"
   ]
  },
  {
   "cell_type": "markdown",
   "metadata": {},
   "source": [
    "### Candidate for encoding: available_sizes, 44 unique sizes"
   ]
  },
  {
   "cell_type": "code",
   "execution_count": 21,
   "metadata": {
    "ExecuteTime": {
     "end_time": "2021-01-21T09:17:12.385356Z",
     "start_time": "2021-01-21T09:17:12.322767Z"
    },
    "scrolled": true
   },
   "outputs": [
    {
     "data": {
      "text/plain": [
       "S       30458\n",
       "XS      30189\n",
       "M       29877\n",
       "L       29354\n",
       "XL      16927\n",
       "34B     15406\n",
       "32DD    15396\n",
       "32D     15390\n",
       "34DD    15352\n",
       "34C     15282\n",
       "34D     15079\n",
       "36C     14853\n",
       "36B     14753\n",
       "36D     14551\n",
       "32B     14439\n",
       "36DD    14416\n",
       "32C     14392\n",
       "32A     12861\n",
       "34A     12255\n",
       "38C      9942\n",
       "38D      9829\n",
       "38DD     9627\n",
       "34D3     7891\n",
       "36D3     7513\n",
       "36A      7464\n",
       "32D3     7338\n",
       "38B      6467\n",
       "40D      5915\n",
       "40DD     5892\n",
       "30C      4804\n",
       "30B      4709\n",
       "30A      4693\n",
       "38D3     4603\n",
       "40C      4016\n",
       "34AA     3975\n",
       "32AA     3928\n",
       "40D3     2658\n",
       "36AA      301\n",
       "XS/S      205\n",
       "M/L       194\n",
       "OS        147\n",
       "D/DD       15\n",
       "AA/A       15\n",
       "B/C        15\n",
       "Name: available_size, dtype: int64"
      ]
     },
     "execution_count": 21,
     "metadata": {},
     "output_type": "execute_result"
    }
   ],
   "source": [
    "df.available_size.value_counts()"
   ]
  },
  {
   "cell_type": "code",
   "execution_count": 22,
   "metadata": {
    "ExecuteTime": {
     "end_time": "2021-01-21T09:17:13.398803Z",
     "start_time": "2021-01-21T09:17:13.381295Z"
    }
   },
   "outputs": [
    {
     "data": {
      "text/plain": [
       "44"
      ]
     },
     "execution_count": 22,
     "metadata": {},
     "output_type": "execute_result"
    }
   ],
   "source": [
    "df.available_size.nunique()"
   ]
  },
  {
   "cell_type": "markdown",
   "metadata": {},
   "source": [
    "## Color"
   ]
  },
  {
   "cell_type": "markdown",
   "metadata": {},
   "source": [
    "### Candidate for encoding, color -- high cardinality, would be a very sparse dummy variable"
   ]
  },
  {
   "cell_type": "code",
   "execution_count": null,
   "metadata": {
    "ExecuteTime": {
     "end_time": "2020-12-31T15:07:02.726489Z",
     "start_time": "2020-12-31T15:07:02.681421Z"
    }
   },
   "outputs": [],
   "source": [
    "df.color.value_counts()"
   ]
  },
  {
   "cell_type": "code",
   "execution_count": null,
   "metadata": {
    "ExecuteTime": {
     "end_time": "2020-12-31T15:07:03.081679Z",
     "start_time": "2020-12-31T15:07:02.728340Z"
    }
   },
   "outputs": [],
   "source": [
    "sns.countplot(y=df.color,order=df.color.value_counts().iloc[:12].index)"
   ]
  },
  {
   "cell_type": "markdown",
   "metadata": {},
   "source": [
    "### Lowercasing out duplicate colors"
   ]
  },
  {
   "cell_type": "code",
   "execution_count": null,
   "metadata": {
    "ExecuteTime": {
     "end_time": "2020-12-31T15:07:03.282713Z",
     "start_time": "2020-12-31T15:07:03.088084Z"
    }
   },
   "outputs": [],
   "source": [
    "df['color'] = df['color'].str.lower()\n",
    "\n",
    "df.color.value_counts()"
   ]
  },
  {
   "cell_type": "code",
   "execution_count": null,
   "metadata": {
    "ExecuteTime": {
     "end_time": "2020-12-31T15:07:03.655471Z",
     "start_time": "2020-12-31T15:07:03.286778Z"
    }
   },
   "outputs": [],
   "source": [
    "sns.countplot(y=df.color,order=df.color.value_counts().iloc[:12].index)"
   ]
  },
  {
   "cell_type": "markdown",
   "metadata": {},
   "source": [
    "### Could use sorting into bigger color categories via. primary color?"
   ]
  },
  {
   "cell_type": "markdown",
   "metadata": {},
   "source": [
    "# Dropping empty, single value, and non-informative columns"
   ]
  },
  {
   "cell_type": "code",
   "execution_count": null,
   "metadata": {
    "ExecuteTime": {
     "end_time": "2020-12-31T15:07:03.835973Z",
     "start_time": "2020-12-31T15:07:03.657210Z"
    }
   },
   "outputs": [],
   "source": [
    "df = df.drop(columns=['style_attributes', 'retailer', 'pdp_url'],axis=1)\n",
    "\n",
    "df.info()"
   ]
  },
  {
   "cell_type": "markdown",
   "metadata": {},
   "source": [
    "# Narrowing focus -- Getting only products with ratings"
   ]
  },
  {
   "cell_type": "code",
   "execution_count": null,
   "metadata": {
    "ExecuteTime": {
     "end_time": "2020-12-31T15:07:03.897699Z",
     "start_time": "2020-12-31T15:07:03.837941Z"
    }
   },
   "outputs": [],
   "source": [
    "review_df = df[df['rating'].notna()]\n",
    "\n",
    "review_df.info()"
   ]
  },
  {
   "cell_type": "markdown",
   "metadata": {},
   "source": [
    "### Histogram of ratings"
   ]
  },
  {
   "cell_type": "code",
   "execution_count": null,
   "metadata": {
    "ExecuteTime": {
     "end_time": "2020-12-31T15:07:04.155006Z",
     "start_time": "2020-12-31T15:07:03.899828Z"
    },
    "scrolled": true
   },
   "outputs": [],
   "source": [
    "review_df['rating'].hist()"
   ]
  },
  {
   "cell_type": "markdown",
   "metadata": {},
   "source": [
    "## Examining ratings -- amount of reviews"
   ]
  },
  {
   "cell_type": "code",
   "execution_count": null,
   "metadata": {
    "ExecuteTime": {
     "end_time": "2020-12-31T15:07:04.163735Z",
     "start_time": "2020-12-31T15:07:04.156546Z"
    }
   },
   "outputs": [],
   "source": [
    "review_df.review_count.value_counts()"
   ]
  },
  {
   "cell_type": "markdown",
   "metadata": {},
   "source": [
    "### What?"
   ]
  },
  {
   "cell_type": "code",
   "execution_count": null,
   "metadata": {
    "ExecuteTime": {
     "end_time": "2020-12-31T15:07:04.424253Z",
     "start_time": "2020-12-31T15:07:04.165344Z"
    }
   },
   "outputs": [],
   "source": [
    "sns.countplot(y=review_df.review_count,order=review_df.review_count.value_counts().iloc[:10].index)"
   ]
  },
  {
   "cell_type": "code",
   "execution_count": null,
   "metadata": {
    "ExecuteTime": {
     "end_time": "2020-12-31T15:07:04.713298Z",
     "start_time": "2020-12-31T15:07:04.425749Z"
    }
   },
   "outputs": [],
   "source": [
    "review_df[\"review_count\"] = review_df[\"review_count\"].astype(int)\n",
    "\n",
    "sns.countplot(y=review_df.review_count,order=review_df.review_count.value_counts().iloc[:10].index)"
   ]
  },
  {
   "cell_type": "code",
   "execution_count": null,
   "metadata": {
    "ExecuteTime": {
     "end_time": "2020-12-31T15:07:04.716864Z",
     "start_time": "2020-12-31T15:07:04.715124Z"
    }
   },
   "outputs": [],
   "source": [
    "# bins must be positive when integer?\n",
    "#sns.distplot(review_df.review_count)"
   ]
  },
  {
   "cell_type": "markdown",
   "metadata": {},
   "source": [
    "## Price of rated items"
   ]
  },
  {
   "cell_type": "code",
   "execution_count": null,
   "metadata": {
    "ExecuteTime": {
     "end_time": "2020-12-31T15:07:04.734792Z",
     "start_time": "2020-12-31T15:07:04.718851Z"
    }
   },
   "outputs": [],
   "source": [
    "review_df['price'].value_counts()"
   ]
  },
  {
   "cell_type": "markdown",
   "metadata": {},
   "source": [
    "### Cleaning and coercing to numeric from string with dollar sign"
   ]
  },
  {
   "cell_type": "code",
   "execution_count": null,
   "metadata": {
    "ExecuteTime": {
     "end_time": "2020-12-31T15:07:04.812038Z",
     "start_time": "2020-12-31T15:07:04.736381Z"
    }
   },
   "outputs": [],
   "source": [
    "review_df['price'] = review_df['price'].str.replace('$', '')\n",
    "\n",
    "review_df['price'].value_counts()\n"
   ]
  },
  {
   "cell_type": "code",
   "execution_count": null,
   "metadata": {
    "ExecuteTime": {
     "end_time": "2020-12-31T15:07:04.859904Z",
     "start_time": "2020-12-31T15:07:04.813580Z"
    }
   },
   "outputs": [],
   "source": [
    "review_df.info()"
   ]
  },
  {
   "cell_type": "code",
   "execution_count": null,
   "metadata": {
    "ExecuteTime": {
     "end_time": "2020-12-31T15:07:04.940159Z",
     "start_time": "2020-12-31T15:07:04.861436Z"
    }
   },
   "outputs": [],
   "source": [
    "review_df['price'] = pd.to_numeric( review_df['price'],errors='coerce')\n",
    "\n",
    "review_df.info()"
   ]
  },
  {
   "cell_type": "markdown",
   "metadata": {},
   "source": [
    "    Nice distribution, nice"
   ]
  },
  {
   "cell_type": "code",
   "execution_count": null,
   "metadata": {
    "ExecuteTime": {
     "end_time": "2020-12-31T15:07:04.998442Z",
     "start_time": "2020-12-31T15:07:04.941548Z"
    }
   },
   "outputs": [],
   "source": [
    "review_df = review_df[review_df['price'].notna()]\n",
    "\n",
    "review_df.info()"
   ]
  },
  {
   "cell_type": "markdown",
   "metadata": {},
   "source": [
    "### Distribution of reviewed item prices"
   ]
  },
  {
   "cell_type": "code",
   "execution_count": null,
   "metadata": {
    "ExecuteTime": {
     "end_time": "2020-12-31T15:07:05.583474Z",
     "start_time": "2020-12-31T15:07:05.000053Z"
    },
    "scrolled": false
   },
   "outputs": [],
   "source": [
    "sns.distplot(review_df['price'])\n",
    "ax = plt.gca()\n",
    "fig = plt.gcf()\n",
    "ax.set_title(\"Reviewed Items Price Distribution: Victoria's Secret\")\n",
    "ax.set_ylabel(\"Percent of items\")\n",
    "fig.savefig(\"review-items-price-dist.png\",bbox_inches='tight')\n",
    "plt.show()"
   ]
  },
  {
   "cell_type": "markdown",
   "metadata": {},
   "source": [
    "## MRP of reviewed items "
   ]
  },
  {
   "cell_type": "markdown",
   "metadata": {},
   "source": [
    "### Cleaning ala. price"
   ]
  },
  {
   "cell_type": "code",
   "execution_count": null,
   "metadata": {
    "ExecuteTime": {
     "end_time": "2020-12-31T15:07:05.601210Z",
     "start_time": "2020-12-31T15:07:05.585208Z"
    },
    "scrolled": true
   },
   "outputs": [],
   "source": [
    "review_df.mrp.value_counts()"
   ]
  },
  {
   "cell_type": "code",
   "execution_count": null,
   "metadata": {
    "ExecuteTime": {
     "end_time": "2020-12-31T15:07:05.676887Z",
     "start_time": "2020-12-31T15:07:05.602738Z"
    }
   },
   "outputs": [],
   "source": [
    "review_df['mrp'] = review_df['mrp'].str.replace('$', '')\n",
    "\n",
    "review_df['mrp'].value_counts()\n"
   ]
  },
  {
   "cell_type": "code",
   "execution_count": null,
   "metadata": {
    "ExecuteTime": {
     "end_time": "2020-12-31T15:07:05.756553Z",
     "start_time": "2020-12-31T15:07:05.678661Z"
    }
   },
   "outputs": [],
   "source": [
    "review_df['mrp'] = pd.to_numeric( review_df['mrp'],errors='coerce')\n",
    "\n",
    "review_df.info()"
   ]
  },
  {
   "cell_type": "markdown",
   "metadata": {},
   "source": [
    "### Distribution of reviewed item MRP"
   ]
  },
  {
   "cell_type": "code",
   "execution_count": null,
   "metadata": {
    "ExecuteTime": {
     "end_time": "2020-12-31T15:07:06.291748Z",
     "start_time": "2020-12-31T15:07:05.758360Z"
    },
    "scrolled": true
   },
   "outputs": [],
   "source": [
    "sns.distplot(review_df['mrp'])\n",
    "ax = plt.gca()\n",
    "fig = plt.gcf()\n",
    "ax.set_title(\"Reviewed Items MRP Distribution: Victoria's Secret\")\n",
    "ax.set_ylabel(\"Percent of items\")\n",
    "fig.savefig(\"review-items-mrp-dist.png\",bbox_inches='tight')\n",
    "plt.show()"
   ]
  },
  {
   "cell_type": "markdown",
   "metadata": {},
   "source": [
    "## Price and MRP of reviewed items distribution comparison"
   ]
  },
  {
   "cell_type": "code",
   "execution_count": null,
   "metadata": {
    "ExecuteTime": {
     "end_time": "2020-12-31T15:07:07.080464Z",
     "start_time": "2020-12-31T15:07:06.293484Z"
    }
   },
   "outputs": [],
   "source": [
    "sns.distplot(review_df['price'], label=\"Price\")\n",
    "sns.distplot(review_df['mrp'], label=\"mrp\")\n",
    "fig = plt.gcf()\n",
    "ax = plt.gca()\n",
    "ax.set_title(\"Price and MRP distribution comparison for rated Victoria Secret items\")\n",
    "ax.set_xlabel(\"Dollars\")\n",
    "plt.legend()\n",
    "fig.savefig(\"price-mrp-comparison-rateditems.png\",bbox_inches='tight')\n",
    "plt.show()"
   ]
  },
  {
   "cell_type": "markdown",
   "metadata": {},
   "source": [
    "## Price and MRP vs. Ratings "
   ]
  },
  {
   "cell_type": "code",
   "execution_count": null,
   "metadata": {
    "ExecuteTime": {
     "end_time": "2020-12-31T15:07:12.901658Z",
     "start_time": "2020-12-31T15:07:07.082068Z"
    }
   },
   "outputs": [],
   "source": [
    "sns.lineplot(data=review_df, x='rating', y='price', label=\"Price\")\n",
    "sns.lineplot(data=review_df, x='rating', y='mrp', label=\"MRP\")\n",
    "fig = plt.gcf()\n",
    "ax = plt.gca()\n",
    "ax.set_title(\"Price and MRP of Victoria Secret items vs. Customer Ratings\")\n",
    "ax.set_ylabel(\"Dollars\")\n",
    "plt.legend()\n",
    "fig.savefig(\"ratings-vs-mrp-prices.png\",bbox_inches='tight')\n",
    "plt.show()"
   ]
  },
  {
   "cell_type": "markdown",
   "metadata": {},
   "source": [
    "# Creating price_diff or difference between price and mrp in percent"
   ]
  },
  {
   "cell_type": "code",
   "execution_count": null,
   "metadata": {
    "ExecuteTime": {
     "end_time": "2020-12-31T15:07:14.459898Z",
     "start_time": "2020-12-31T15:07:12.903238Z"
    }
   },
   "outputs": [],
   "source": [
    "review_df['price_diff'] = (review_df['price'] - review_df['mrp']) * 100 / review_df['price']\n",
    "review_df['price_diff'].plot(kind='density')"
   ]
  },
  {
   "cell_type": "markdown",
   "metadata": {},
   "source": [
    "### Histogram of all discounts"
   ]
  },
  {
   "cell_type": "code",
   "execution_count": null,
   "metadata": {
    "ExecuteTime": {
     "end_time": "2020-12-31T15:07:14.716504Z",
     "start_time": "2020-12-31T15:07:14.461886Z"
    },
    "scrolled": true
   },
   "outputs": [],
   "source": [
    "diff_under_zero = review_df.loc[review_df['price_diff'] < 0 ]\n",
    "\n",
    "diff_under_zero['price_diff'].hist()"
   ]
  },
  {
   "cell_type": "markdown",
   "metadata": {},
   "source": [
    "### Distribution of Price between items discounted and not from MRP"
   ]
  },
  {
   "cell_type": "code",
   "execution_count": null,
   "metadata": {
    "ExecuteTime": {
     "end_time": "2020-12-31T15:07:15.555143Z",
     "start_time": "2020-12-31T15:07:14.718244Z"
    }
   },
   "outputs": [],
   "source": [
    "sns.distplot(diff_under_zero['price'], label=\"Under MRP\")\n",
    "sns.distplot(review_df['price'], label=\"MRP\")\n",
    "fig = plt.gcf()\n",
    "ax = plt.gca()\n",
    "ax.set_title(\"Distributions of Victoria Secret item prices -- discounted from MRP and not\")\n",
    "ax.set_xlabel(\"Price in dollars\")\n",
    "plt.legend()\n",
    "fig.savefig(\"mrp-discount-distributions.png\",bbox_inches='tight')\n",
    "plt.show()"
   ]
  },
  {
   "cell_type": "markdown",
   "metadata": {},
   "source": [
    "### Top product categories of discounted from MRP items"
   ]
  },
  {
   "cell_type": "code",
   "execution_count": null,
   "metadata": {
    "ExecuteTime": {
     "end_time": "2020-12-31T15:07:16.195539Z",
     "start_time": "2020-12-31T15:07:15.556696Z"
    }
   },
   "outputs": [],
   "source": [
    "# needs a groupby to group the products together and get avg price diff \n",
    "# sns.countplot(y=diff_under_zero['product_category'],order=review_df.product_category.value_counts().iloc[:5].index)\n",
    "\n",
    "sns.barplot(x=diff_under_zero['price_diff'], y=diff_under_zero['product_category'],order=review_df.product_category.value_counts().iloc[:10].index)\n",
    "plt.show()"
   ]
  },
  {
   "cell_type": "code",
   "execution_count": null,
   "metadata": {
    "ExecuteTime": {
     "end_time": "2020-12-31T15:07:16.236592Z",
     "start_time": "2020-12-31T15:07:16.198215Z"
    }
   },
   "outputs": [],
   "source": [
    "review_df.info()"
   ]
  },
  {
   "cell_type": "markdown",
   "metadata": {},
   "source": [
    "# TBD: An available_size_count derived from amount of sizes available"
   ]
  },
  {
   "cell_type": "markdown",
   "metadata": {},
   "source": [
    "# Next steps\n",
    "    -"
   ]
  },
  {
   "cell_type": "markdown",
   "metadata": {},
   "source": [
    "## Dropping high cardinality categoricals and text feature(description) for now"
   ]
  },
  {
   "cell_type": "code",
   "execution_count": null,
   "metadata": {
    "ExecuteTime": {
     "end_time": "2020-12-31T15:07:16.258377Z",
     "start_time": "2020-12-31T15:07:16.238459Z"
    },
    "scrolled": true
   },
   "outputs": [],
   "source": [
    "review_df = review_df.drop(columns=[\"product_name\", \"product_category\",'color', 'description'],axis=1)\n",
    "\n",
    "review_df.head()"
   ]
  },
  {
   "cell_type": "code",
   "execution_count": null,
   "metadata": {},
   "outputs": [],
   "source": []
  },
  {
   "cell_type": "code",
   "execution_count": null,
   "metadata": {
    "ExecuteTime": {
     "end_time": "2020-12-31T15:07:16.271715Z",
     "start_time": "2020-12-31T15:07:16.259999Z"
    }
   },
   "outputs": [],
   "source": [
    "review_df['mrp'] = review_df['mrp'].astype(int)\n",
    "review_df['price'] = review_df['price'].astype(int)\n",
    "review_df['rating'] = review_df['rating'].astype(int)\n",
    "review_df['price_diff'] = review_df['price_diff'].astype(int)"
   ]
  },
  {
   "cell_type": "code",
   "execution_count": null,
   "metadata": {
    "ExecuteTime": {
     "end_time": "2020-12-31T15:07:16.302556Z",
     "start_time": "2020-12-31T15:07:16.273443Z"
    }
   },
   "outputs": [],
   "source": [
    "review_df.info()"
   ]
  },
  {
   "cell_type": "code",
   "execution_count": null,
   "metadata": {},
   "outputs": [],
   "source": []
  },
  {
   "cell_type": "markdown",
   "metadata": {},
   "source": [
    "## Brand_name to boolean value"
   ]
  },
  {
   "cell_type": "code",
   "execution_count": null,
   "metadata": {
    "ExecuteTime": {
     "end_time": "2020-12-31T15:07:16.343711Z",
     "start_time": "2020-12-31T15:07:16.305113Z"
    }
   },
   "outputs": [],
   "source": [
    "review_df['brand_name'].replace([\"Victoria's Secret Pink\", \"Victoria's Secret\"],[0,1],inplace=True)\n",
    "\n",
    "review_df.brand_name.value_counts()"
   ]
  },
  {
   "cell_type": "markdown",
   "metadata": {},
   "source": [
    "# Adding in Hanky Panky data before encoding"
   ]
  },
  {
   "cell_type": "code",
   "execution_count": null,
   "metadata": {
    "ExecuteTime": {
     "end_time": "2020-12-31T15:07:16.553364Z",
     "start_time": "2020-12-31T15:07:16.345135Z"
    }
   },
   "outputs": [],
   "source": [
    "df2 = pd.read_csv(\"hankypanky_com.csv\")\n",
    "\n",
    "df2.head(10)"
   ]
  },
  {
   "cell_type": "code",
   "execution_count": null,
   "metadata": {
    "ExecuteTime": {
     "end_time": "2020-12-31T15:07:16.581444Z",
     "start_time": "2020-12-31T15:07:16.555240Z"
    }
   },
   "outputs": [],
   "source": [
    "df2.info()"
   ]
  },
  {
   "cell_type": "markdown",
   "metadata": {},
   "source": [
    "## Only rated items off the bat to match VS dataframe"
   ]
  },
  {
   "cell_type": "code",
   "execution_count": null,
   "metadata": {
    "ExecuteTime": {
     "end_time": "2020-12-31T15:07:16.601404Z",
     "start_time": "2020-12-31T15:07:16.583520Z"
    }
   },
   "outputs": [],
   "source": [
    "r_df2 = df2[df2['rating'].notna()]\n",
    "\n",
    "r_df2.info()"
   ]
  },
  {
   "cell_type": "markdown",
   "metadata": {},
   "source": [
    "### Style_attributes present, to be encoded"
   ]
  },
  {
   "cell_type": "code",
   "execution_count": null,
   "metadata": {
    "ExecuteTime": {
     "end_time": "2020-12-31T15:07:16.613219Z",
     "start_time": "2020-12-31T15:07:16.604159Z"
    },
    "scrolled": false
   },
   "outputs": [],
   "source": [
    "r_df2.style_attributes.value_counts()"
   ]
  },
  {
   "cell_type": "markdown",
   "metadata": {},
   "source": [
    "### Retailer is uniform, to be dropped"
   ]
  },
  {
   "cell_type": "code",
   "execution_count": null,
   "metadata": {
    "ExecuteTime": {
     "end_time": "2020-12-31T15:07:16.621652Z",
     "start_time": "2020-12-31T15:07:16.615037Z"
    },
    "scrolled": true
   },
   "outputs": [],
   "source": [
    "r_df2.retailer.value_counts()"
   ]
  },
  {
   "cell_type": "markdown",
   "metadata": {},
   "source": [
    "### URL has no meaning"
   ]
  },
  {
   "cell_type": "code",
   "execution_count": null,
   "metadata": {
    "ExecuteTime": {
     "end_time": "2020-12-31T15:07:16.630856Z",
     "start_time": "2020-12-31T15:07:16.623409Z"
    }
   },
   "outputs": [],
   "source": [
    "r_df2.pdp_url.value_counts()"
   ]
  },
  {
   "cell_type": "markdown",
   "metadata": {},
   "source": [
    "### Dropping retailer and url"
   ]
  },
  {
   "cell_type": "code",
   "execution_count": null,
   "metadata": {
    "ExecuteTime": {
     "end_time": "2020-12-31T15:07:16.647763Z",
     "start_time": "2020-12-31T15:07:16.632878Z"
    },
    "scrolled": true
   },
   "outputs": [],
   "source": [
    "r_df2 = r_df2.drop(columns=['retailer', 'pdp_url'],axis=1)\n",
    "\n",
    "r_df2.info()"
   ]
  },
  {
   "cell_type": "markdown",
   "metadata": {},
   "source": [
    "### Product name to be encoded"
   ]
  },
  {
   "cell_type": "code",
   "execution_count": null,
   "metadata": {
    "ExecuteTime": {
     "end_time": "2020-12-31T15:07:16.656703Z",
     "start_time": "2020-12-31T15:07:16.649666Z"
    },
    "scrolled": false
   },
   "outputs": [],
   "source": [
    "r_df2.product_name.value_counts()"
   ]
  },
  {
   "cell_type": "markdown",
   "metadata": {},
   "source": [
    "## Cleaning dollar signs from mrp and price"
   ]
  },
  {
   "cell_type": "code",
   "execution_count": null,
   "metadata": {
    "ExecuteTime": {
     "end_time": "2020-12-31T15:07:16.664888Z",
     "start_time": "2020-12-31T15:07:16.658416Z"
    }
   },
   "outputs": [],
   "source": [
    "r_df2.mrp.value_counts()"
   ]
  },
  {
   "cell_type": "code",
   "execution_count": null,
   "metadata": {
    "ExecuteTime": {
     "end_time": "2020-12-31T15:07:16.678523Z",
     "start_time": "2020-12-31T15:07:16.666597Z"
    }
   },
   "outputs": [],
   "source": [
    "r_df2['mrp'] = r_df2['mrp'].str.replace('$', '')\n",
    "\n",
    "r_df2['mrp'].value_counts()\n"
   ]
  },
  {
   "cell_type": "code",
   "execution_count": null,
   "metadata": {
    "ExecuteTime": {
     "end_time": "2020-12-31T15:07:16.686937Z",
     "start_time": "2020-12-31T15:07:16.680366Z"
    }
   },
   "outputs": [],
   "source": [
    "r_df2.price.value_counts()"
   ]
  },
  {
   "cell_type": "code",
   "execution_count": null,
   "metadata": {
    "ExecuteTime": {
     "end_time": "2020-12-31T15:07:16.700022Z",
     "start_time": "2020-12-31T15:07:16.688814Z"
    }
   },
   "outputs": [],
   "source": [
    "r_df2['price'] = r_df2['price'].str.replace('$', '')\n",
    "\n",
    "r_df2['price'].value_counts()"
   ]
  },
  {
   "cell_type": "markdown",
   "metadata": {},
   "source": [
    "### Brand_name"
   ]
  },
  {
   "cell_type": "code",
   "execution_count": null,
   "metadata": {
    "ExecuteTime": {
     "end_time": "2020-12-31T15:07:16.707003Z",
     "start_time": "2020-12-31T15:07:16.701619Z"
    }
   },
   "outputs": [],
   "source": [
    "r_df2.brand_name.value_counts()"
   ]
  },
  {
   "cell_type": "markdown",
   "metadata": {},
   "source": [
    "### Redundant"
   ]
  },
  {
   "cell_type": "code",
   "execution_count": null,
   "metadata": {
    "ExecuteTime": {
     "end_time": "2020-12-31T15:07:16.712156Z",
     "start_time": "2020-12-31T15:07:16.708481Z"
    }
   },
   "outputs": [],
   "source": [
    "r_df2 = r_df2.drop(\"brand_name\",axis=1)"
   ]
  },
  {
   "cell_type": "markdown",
   "metadata": {},
   "source": [
    "### Here description can be encoded"
   ]
  },
  {
   "cell_type": "code",
   "execution_count": null,
   "metadata": {
    "ExecuteTime": {
     "end_time": "2020-12-31T15:07:16.719846Z",
     "start_time": "2020-12-31T15:07:16.713627Z"
    },
    "scrolled": true
   },
   "outputs": [],
   "source": [
    "r_df2.description.value_counts()"
   ]
  },
  {
   "cell_type": "markdown",
   "metadata": {},
   "source": [
    "### Total_sizes to be encoded"
   ]
  },
  {
   "cell_type": "code",
   "execution_count": null,
   "metadata": {
    "ExecuteTime": {
     "end_time": "2020-12-31T15:07:16.737746Z",
     "start_time": "2020-12-31T15:07:16.732123Z"
    },
    "scrolled": true
   },
   "outputs": [],
   "source": [
    "r_df2.total_sizes.value_counts()"
   ]
  },
  {
   "cell_type": "markdown",
   "metadata": {},
   "source": [
    "### As is available_sizes"
   ]
  },
  {
   "cell_type": "code",
   "execution_count": null,
   "metadata": {
    "ExecuteTime": {
     "end_time": "2020-12-31T15:07:16.749660Z",
     "start_time": "2020-12-31T15:07:16.743196Z"
    },
    "scrolled": true
   },
   "outputs": [],
   "source": [
    "r_df2.available_size.value_counts()"
   ]
  },
  {
   "cell_type": "code",
   "execution_count": null,
   "metadata": {
    "ExecuteTime": {
     "end_time": "2020-12-31T15:07:16.757600Z",
     "start_time": "2020-12-31T15:07:16.751302Z"
    }
   },
   "outputs": [],
   "source": [
    "r_df2.color.value_counts()"
   ]
  },
  {
   "cell_type": "markdown",
   "metadata": {},
   "source": [
    "### Dropping color"
   ]
  },
  {
   "cell_type": "code",
   "execution_count": null,
   "metadata": {
    "ExecuteTime": {
     "end_time": "2020-12-31T15:07:16.764558Z",
     "start_time": "2020-12-31T15:07:16.759224Z"
    }
   },
   "outputs": [],
   "source": [
    "r_df2 = r_df2.drop(\"color\",axis=1)\n",
    "\n",
    "r_df2.columns"
   ]
  },
  {
   "cell_type": "markdown",
   "metadata": {},
   "source": [
    "# Comparing dataframes"
   ]
  },
  {
   "cell_type": "markdown",
   "metadata": {},
   "source": [
    "## Overlapping columns: MRP, price, rating, review_count, total_sizes, available_size\n",
    "## Non-overlapping: R_df2 has product_name, product_category, description, style_attributes, lacks price_diff"
   ]
  },
  {
   "cell_type": "code",
   "execution_count": null,
   "metadata": {
    "ExecuteTime": {
     "end_time": "2020-12-31T15:07:16.769401Z",
     "start_time": "2020-12-31T15:07:16.766092Z"
    }
   },
   "outputs": [],
   "source": [
    "review_df.columns"
   ]
  },
  {
   "cell_type": "code",
   "execution_count": null,
   "metadata": {
    "ExecuteTime": {
     "end_time": "2020-12-31T15:07:16.774100Z",
     "start_time": "2020-12-31T15:07:16.770855Z"
    }
   },
   "outputs": [],
   "source": [
    "r_df2.columns"
   ]
  },
  {
   "cell_type": "code",
   "execution_count": null,
   "metadata": {
    "ExecuteTime": {
     "end_time": "2020-12-31T15:07:16.784973Z",
     "start_time": "2020-12-31T15:07:16.775558Z"
    },
    "scrolled": true
   },
   "outputs": [],
   "source": [
    "r_df2.info()"
   ]
  },
  {
   "cell_type": "code",
   "execution_count": null,
   "metadata": {
    "ExecuteTime": {
     "end_time": "2020-12-31T15:07:16.793706Z",
     "start_time": "2020-12-31T15:07:16.786473Z"
    }
   },
   "outputs": [],
   "source": [
    "r_df2['price'] = r_df2.price.str.strip(\" \")"
   ]
  },
  {
   "cell_type": "code",
   "execution_count": null,
   "metadata": {
    "ExecuteTime": {
     "end_time": "2020-12-31T15:07:16.804430Z",
     "start_time": "2020-12-31T15:07:16.795682Z"
    }
   },
   "outputs": [],
   "source": [
    "print (r_df2[ pd.to_numeric(r_df2['price'], errors='coerce').isnull()])"
   ]
  },
  {
   "cell_type": "code",
   "execution_count": null,
   "metadata": {
    "ExecuteTime": {
     "end_time": "2020-12-31T15:07:16.813387Z",
     "start_time": "2020-12-31T15:07:16.806214Z"
    }
   },
   "outputs": [],
   "source": [
    "r_df2['price'] = pd.to_numeric(r_df2['price'], errors='coerce')"
   ]
  },
  {
   "cell_type": "code",
   "execution_count": null,
   "metadata": {
    "ExecuteTime": {
     "end_time": "2020-12-31T15:07:16.821451Z",
     "start_time": "2020-12-31T15:07:16.815306Z"
    }
   },
   "outputs": [],
   "source": [
    "r_df2['mrp'] = r_df2['mrp'].astype(int)\n",
    "r_df2['price'] = r_df2['price'].astype(int)\n",
    "r_df2['rating'] = r_df2['rating'].astype(int)\n",
    "# r_df2['price_diff'] = r_df2['price_diff'].astype(int)"
   ]
  },
  {
   "cell_type": "code",
   "execution_count": null,
   "metadata": {
    "ExecuteTime": {
     "end_time": "2020-12-31T15:07:17.152847Z",
     "start_time": "2020-12-31T15:07:16.823049Z"
    }
   },
   "outputs": [],
   "source": [
    "r_df2['price_diff'] = (r_df2['price'] - r_df2['mrp']) * 100 / r_df2['price']\n",
    "r_df2['price_diff'].plot(kind='density')"
   ]
  },
  {
   "cell_type": "markdown",
   "metadata": {},
   "source": [
    "# TBD: Don't drop non-overlapping columns"
   ]
  },
  {
   "cell_type": "code",
   "execution_count": null,
   "metadata": {
    "ExecuteTime": {
     "end_time": "2020-12-31T15:07:17.159141Z",
     "start_time": "2020-12-31T15:07:17.154334Z"
    },
    "scrolled": true
   },
   "outputs": [],
   "source": [
    "r_df2 = r_df2.drop(columns=['product_name', 'product_category', 'description', 'style_attributes'])"
   ]
  },
  {
   "cell_type": "code",
   "execution_count": null,
   "metadata": {
    "ExecuteTime": {
     "end_time": "2020-12-31T15:07:17.174037Z",
     "start_time": "2020-12-31T15:07:17.160618Z"
    }
   },
   "outputs": [],
   "source": [
    "#dropping for now because limited info and pain to model\n",
    "review_df = review_df.drop(\"brand_name\", axis=1)"
   ]
  },
  {
   "cell_type": "code",
   "execution_count": null,
   "metadata": {
    "ExecuteTime": {
     "end_time": "2020-12-31T15:07:17.179129Z",
     "start_time": "2020-12-31T15:07:17.175464Z"
    },
    "scrolled": true
   },
   "outputs": [],
   "source": [
    "review_df.columns"
   ]
  },
  {
   "cell_type": "code",
   "execution_count": null,
   "metadata": {
    "ExecuteTime": {
     "end_time": "2020-12-31T15:07:17.183583Z",
     "start_time": "2020-12-31T15:07:17.180544Z"
    }
   },
   "outputs": [],
   "source": [
    "r_df2.columns"
   ]
  },
  {
   "cell_type": "code",
   "execution_count": null,
   "metadata": {
    "ExecuteTime": {
     "end_time": "2020-12-31T15:07:17.202813Z",
     "start_time": "2020-12-31T15:07:17.185025Z"
    },
    "scrolled": true
   },
   "outputs": [],
   "source": [
    "dfs = [review_df, r_df2]\n",
    "\n",
    "combo_df = pd.concat(dfs)\n",
    "\n",
    "combo_df.head(20)"
   ]
  },
  {
   "cell_type": "code",
   "execution_count": null,
   "metadata": {
    "ExecuteTime": {
     "end_time": "2020-12-31T15:07:17.353734Z",
     "start_time": "2020-12-31T15:07:17.204387Z"
    }
   },
   "outputs": [],
   "source": [
    "combo_df = pd.get_dummies(combo_df, columns=['total_sizes'], prefix='sizes', prefix_sep='_',drop_first=True) \n",
    "combo_df = pd.get_dummies(combo_df, columns=['available_size'], prefix='available', prefix_sep='_',drop_first=True) \n",
    "\n",
    "combo_df.columns"
   ]
  },
  {
   "cell_type": "code",
   "execution_count": null,
   "metadata": {
    "ExecuteTime": {
     "end_time": "2020-12-31T15:07:17.440799Z",
     "start_time": "2020-12-31T15:07:17.355614Z"
    }
   },
   "outputs": [],
   "source": [
    "combo_df.isnull().sum()"
   ]
  },
  {
   "cell_type": "markdown",
   "metadata": {},
   "source": [
    "# Modeling with two dataframes"
   ]
  },
  {
   "cell_type": "markdown",
   "metadata": {},
   "source": [
    "## Prep for modeling -- split"
   ]
  },
  {
   "cell_type": "code",
   "execution_count": null,
   "metadata": {
    "ExecuteTime": {
     "end_time": "2020-12-31T15:07:17.458836Z",
     "start_time": "2020-12-31T15:07:17.442512Z"
    }
   },
   "outputs": [],
   "source": [
    "y = combo_df['rating']\n",
    "X = combo_df.drop(columns=['rating','review_count'],axis=1)"
   ]
  },
  {
   "cell_type": "code",
   "execution_count": null,
   "metadata": {
    "ExecuteTime": {
     "end_time": "2020-12-31T15:07:17.574400Z",
     "start_time": "2020-12-31T15:07:17.460622Z"
    }
   },
   "outputs": [],
   "source": [
    "from sklearn.model_selection import train_test_split\n",
    "\n",
    "X_train, X_test, y_train, y_test = train_test_split(X, y, test_size=0.2, random_state=123)"
   ]
  },
  {
   "cell_type": "markdown",
   "metadata": {},
   "source": [
    "## DecisionTreeRegressor"
   ]
  },
  {
   "cell_type": "code",
   "execution_count": null,
   "metadata": {
    "ExecuteTime": {
     "end_time": "2020-12-31T15:07:18.917712Z",
     "start_time": "2020-12-31T15:07:17.576380Z"
    }
   },
   "outputs": [],
   "source": [
    "from sklearn.tree import DecisionTreeRegressor\n",
    "regressor = DecisionTreeRegressor()\n",
    "regressor.fit(X_train, y_train)"
   ]
  },
  {
   "cell_type": "code",
   "execution_count": null,
   "metadata": {
    "ExecuteTime": {
     "end_time": "2020-12-31T15:07:18.966620Z",
     "start_time": "2020-12-31T15:07:18.919685Z"
    }
   },
   "outputs": [],
   "source": [
    "y_pred = regressor.predict(X_test)\n",
    "\n",
    "pred_df=pd.DataFrame({'Actual':y_test, 'Predicted':y_pred})\n",
    "pred_df"
   ]
  },
  {
   "cell_type": "code",
   "execution_count": null,
   "metadata": {
    "ExecuteTime": {
     "end_time": "2020-12-31T15:07:18.974996Z",
     "start_time": "2020-12-31T15:07:18.968457Z"
    }
   },
   "outputs": [],
   "source": [
    "from sklearn import metrics\n",
    "print('Mean Absolute Error:', metrics.mean_absolute_error(y_test, y_pred))\n",
    "print('Mean Squared Error:', metrics.mean_squared_error(y_test, y_pred))\n",
    "print('Root Mean Squared Error:', np.sqrt(metrics.mean_squared_error(y_test, y_pred)))"
   ]
  },
  {
   "cell_type": "code",
   "execution_count": null,
   "metadata": {
    "ExecuteTime": {
     "end_time": "2020-12-31T15:07:18.981339Z",
     "start_time": "2020-12-31T15:07:18.976759Z"
    }
   },
   "outputs": [],
   "source": [
    "from sklearn.metrics import r2_score\n",
    "r2_score(y_test, y_pred)"
   ]
  },
  {
   "cell_type": "code",
   "execution_count": null,
   "metadata": {
    "ExecuteTime": {
     "end_time": "2020-12-31T15:07:19.424215Z",
     "start_time": "2020-12-31T15:07:18.983149Z"
    }
   },
   "outputs": [],
   "source": [
    "# get importance\n",
    "importance = regressor.feature_importances_\n",
    "# summarize feature importance\n",
    "for i,v in enumerate(importance):\n",
    "    print('Feature: %0d, Score: %.5f' % (i,v))\n",
    "# plot feature importance\n",
    "plt.bar([x for x in range(len(importance))], importance)\n",
    "plt.show()"
   ]
  },
  {
   "cell_type": "code",
   "execution_count": null,
   "metadata": {
    "ExecuteTime": {
     "end_time": "2020-12-31T15:07:19.429116Z",
     "start_time": "2020-12-31T15:07:19.426199Z"
    }
   },
   "outputs": [],
   "source": [
    "from sklearn.model_selection import learning_curve\n",
    "train_sizes = [1,2000, 5000, 20000,40000,60000,110000]"
   ]
  },
  {
   "cell_type": "code",
   "execution_count": null,
   "metadata": {
    "ExecuteTime": {
     "end_time": "2020-12-31T15:07:26.891086Z",
     "start_time": "2020-12-31T15:07:19.431440Z"
    }
   },
   "outputs": [],
   "source": [
    "train_sizes, train_scores, test_scores = learning_curve(\n",
    "    DecisionTreeRegressor(), X, y, train_sizes=[2000, 5000, 20000,40000,60000,110000], cv=5)"
   ]
  },
  {
   "cell_type": "code",
   "execution_count": null,
   "metadata": {
    "ExecuteTime": {
     "end_time": "2020-12-31T15:07:26.898519Z",
     "start_time": "2020-12-31T15:07:26.893221Z"
    }
   },
   "outputs": [],
   "source": [
    "train_scores"
   ]
  },
  {
   "cell_type": "code",
   "execution_count": null,
   "metadata": {
    "ExecuteTime": {
     "end_time": "2020-12-31T15:07:26.904690Z",
     "start_time": "2020-12-31T15:07:26.900445Z"
    },
    "scrolled": true
   },
   "outputs": [],
   "source": [
    "test_scores"
   ]
  },
  {
   "cell_type": "code",
   "execution_count": null,
   "metadata": {
    "ExecuteTime": {
     "end_time": "2020-12-31T15:07:27.193831Z",
     "start_time": "2020-12-31T15:07:26.906572Z"
    }
   },
   "outputs": [],
   "source": [
    "# Create means and standard deviations of training set scores\n",
    "train_mean = np.mean(train_scores, axis=1)\n",
    "train_std = np.std(train_scores, axis=1)\n",
    "\n",
    "# Create means and standard deviations of test set scores\n",
    "test_mean = np.mean(test_scores, axis=1)\n",
    "test_std = np.std(test_scores, axis=1)\n",
    "\n",
    "# Draw lines\n",
    "plt.plot(train_sizes, train_mean, '--', color=\"#111111\",  label=\"Training score\")\n",
    "plt.plot(train_sizes, test_mean, color=\"#111111\", label=\"Cross-validation score\")\n",
    "\n",
    "# Draw bands\n",
    "plt.fill_between(train_sizes, train_mean - train_std, train_mean + train_std, color=\"#DDDDDD\")\n",
    "plt.fill_between(train_sizes, test_mean - test_std, test_mean + test_std, color=\"#DDDDDD\")\n",
    "\n",
    "# Create plot\n",
    "plt.title(\"Learning Curve\")\n",
    "plt.xlabel(\"Training Set Size\"), plt.ylabel(\"Accuracy Score\"), plt.legend(loc=\"best\")\n",
    "plt.tight_layout()\n",
    "plt.show()"
   ]
  },
  {
   "cell_type": "code",
   "execution_count": null,
   "metadata": {
    "ExecuteTime": {
     "end_time": "2020-12-31T15:07:27.197653Z",
     "start_time": "2020-12-31T15:07:27.195309Z"
    },
    "scrolled": true
   },
   "outputs": [],
   "source": [
    "# ### Bundling our previous work into a function ###\n",
    "# def learning_curves(estimator, data, features, target, train_sizes, cv):\n",
    "#     train_sizes, train_scores, validation_scores = learning_curve(\n",
    "#     estimator, data[features], data[target], train_sizes =\n",
    "#     train_sizes,\n",
    "#     cv = cv, scoring = 'neg_mean_squared_error')\n",
    "#     train_scores_mean = -train_scores.mean(axis = 1)\n",
    "#     validation_scores_mean = -validation_scores.mean(axis = 1)\n",
    "\n",
    "#     plt.plot(train_sizes, train_scores_mean, label = 'Training error')\n",
    "#     plt.plot(train_sizes, validation_scores_mean, label = 'Validation error')\n",
    "\n",
    "#     plt.ylabel('MSE', fontsize = 14)\n",
    "#     plt.xlabel('Training set size', fontsize = 14)\n",
    "#     title = 'Learning curves for a ' + str(estimator).split('(')[0] + ' model'\n",
    "#     plt.title(title, fontsize = 18, y = 1.03)\n",
    "#     plt.legend()\n",
    "#     plt.ylim(0,40)\n",
    "\n",
    "# ### Plotting the two learning curves ###\n",
    "\n",
    "# from sklearn.ensemble import RandomForestRegressor\n",
    "\n",
    "# plt.figure(figsize = (16,5))\n",
    "\n",
    "# for model, i in [(RandomForestRegressor(), 1), (DecisionTreeRegressor(),2)]:\n",
    "#     plt.subplot(1,2,i)\n",
    "#     learning_curves(model, review_df, X, y, train_sizes, 5)"
   ]
  },
  {
   "cell_type": "code",
   "execution_count": null,
   "metadata": {
    "ExecuteTime": {
     "end_time": "2020-12-31T15:07:27.201147Z",
     "start_time": "2020-12-31T15:07:27.199187Z"
    }
   },
   "outputs": [],
   "source": [
    "# from sklearn.model_selection import GridSearchCV"
   ]
  },
  {
   "cell_type": "code",
   "execution_count": null,
   "metadata": {
    "ExecuteTime": {
     "end_time": "2020-12-31T15:07:27.204484Z",
     "start_time": "2020-12-31T15:07:27.202528Z"
    }
   },
   "outputs": [],
   "source": [
    "# param_grid = {\"criterion\": [\"mse\", \"mae\"],\n",
    "#               \"min_samples_split\": [10, 20, 40],\n",
    "#               \"max_depth\": [2, 6, 8],\n",
    "#               \"min_samples_leaf\": [20, 40, 100],\n",
    "#               \"max_leaf_nodes\": [5, 20, 100],\n",
    "#               }\n",
    "\n",
    "# ## Comment in order to publish in kaggle.\n",
    "\n",
    "# grid_cv_dtm = GridSearchCV(regressor, param_grid, cv=5)\n",
    "\n",
    "# grid_cv_dtm.fit(X_train,y_train)"
   ]
  },
  {
   "cell_type": "code",
   "execution_count": null,
   "metadata": {
    "ExecuteTime": {
     "end_time": "2020-12-31T15:07:30.695591Z",
     "start_time": "2020-12-31T15:07:27.206025Z"
    }
   },
   "outputs": [],
   "source": [
    "\n",
    "from yellowbrick.regressor import ResidualsPlot\n",
    "# Instantiate the linear model and visualizer\n",
    "model = DecisionTreeRegressor()\n",
    "visualizer = ResidualsPlot(model)\n",
    "\n",
    "visualizer.fit(X_train, y_train)  # Fit the training data to the visualizer\n",
    "visualizer.score(X_test, y_test)  # Evaluate the model on the test data\n",
    "visualizer.show()                 # Finalize and render the figure"
   ]
  },
  {
   "cell_type": "code",
   "execution_count": null,
   "metadata": {
    "ExecuteTime": {
     "end_time": "2020-12-31T15:07:32.501530Z",
     "start_time": "2020-12-31T15:07:30.697246Z"
    }
   },
   "outputs": [],
   "source": [
    "from yellowbrick.regressor import PredictionError\n",
    "\n",
    "# Instantiate the linear model and visualizer\n",
    "model = DecisionTreeRegressor()\n",
    "visualizer = PredictionError(model)\n",
    "\n",
    "visualizer.fit(X_train, y_train)  # Fit the training data to the visualizer\n",
    "visualizer.score(X_test, y_test)  # Evaluate the model on the test data\n",
    "visualizer.show()            "
   ]
  },
  {
   "cell_type": "markdown",
   "metadata": {},
   "source": [
    "## Random Forest "
   ]
  },
  {
   "cell_type": "code",
   "execution_count": null,
   "metadata": {
    "ExecuteTime": {
     "end_time": "2020-12-31T15:07:32.517100Z",
     "start_time": "2020-12-31T15:07:32.502945Z"
    }
   },
   "outputs": [],
   "source": [
    "from sklearn.ensemble import RandomForestRegressor"
   ]
  },
  {
   "cell_type": "code",
   "execution_count": null,
   "metadata": {},
   "outputs": [],
   "source": []
  },
  {
   "cell_type": "code",
   "execution_count": null,
   "metadata": {},
   "outputs": [],
   "source": []
  },
  {
   "cell_type": "markdown",
   "metadata": {},
   "source": [
    "## Elasticnet"
   ]
  },
  {
   "cell_type": "code",
   "execution_count": null,
   "metadata": {
    "ExecuteTime": {
     "end_time": "2020-12-31T15:07:32.520837Z",
     "start_time": "2020-12-31T15:07:32.518517Z"
    }
   },
   "outputs": [],
   "source": [
    "from sklearn.linear_model import ElasticNet"
   ]
  },
  {
   "cell_type": "code",
   "execution_count": null,
   "metadata": {
    "ExecuteTime": {
     "end_time": "2020-12-31T15:07:32.877498Z",
     "start_time": "2020-12-31T15:07:32.522370Z"
    }
   },
   "outputs": [],
   "source": [
    "regr = ElasticNet(random_state=0, max_iter=10000)\n",
    "regr.fit(X_train, y_train)\n",
    "y_pred = regr.predict(X_test)\n",
    "# evaluate predictions\n",
    "print('Mean Absolute Error:', metrics.mean_absolute_error(y_test, y_pred))\n",
    "print('Mean Squared Error:', metrics.mean_squared_error(y_test, y_pred))\n",
    "print('Root Mean Squared Error:', np.sqrt(metrics.mean_squared_error(y_test, y_pred)))\n",
    "print(\"R2 Score\", metrics.r2_score(y_test,y_pred))"
   ]
  },
  {
   "cell_type": "markdown",
   "metadata": {},
   "source": [
    "## XGBoost"
   ]
  },
  {
   "cell_type": "code",
   "execution_count": null,
   "metadata": {},
   "outputs": [],
   "source": []
  },
  {
   "cell_type": "code",
   "execution_count": null,
   "metadata": {},
   "outputs": [],
   "source": []
  },
  {
   "cell_type": "markdown",
   "metadata": {},
   "source": [
    "## AdaBoost"
   ]
  },
  {
   "cell_type": "code",
   "execution_count": null,
   "metadata": {
    "ExecuteTime": {
     "end_time": "2020-12-31T15:07:48.715188Z",
     "start_time": "2020-12-31T15:07:32.880190Z"
    }
   },
   "outputs": [],
   "source": [
    "from sklearn.ensemble import AdaBoostRegressor\n",
    "regr = AdaBoostRegressor(random_state=0, n_estimators=500)\n",
    "regr.fit(X_train,y_train)\n",
    "y_pred = regr.predict(X_test)\n",
    "# evaluate predictions\n",
    "print('Mean Absolute Error:', metrics.mean_absolute_error(y_test, y_pred))\n",
    "print('Mean Squared Error:', metrics.mean_squared_error(y_test, y_pred))\n",
    "print('Root Mean Squared Error:', np.sqrt(metrics.mean_squared_error(y_test, y_pred)))\n",
    "print(\"R2 Score\", metrics.r2_score(y_test,y_pred))"
   ]
  },
  {
   "cell_type": "markdown",
   "metadata": {},
   "source": [
    "# Simple deep learning TF/keras regression"
   ]
  },
  {
   "cell_type": "markdown",
   "metadata": {},
   "source": [
    "### https://machinelearningmastery.com/tensorflow-tutorial-deep-learning-with-tf-keras/"
   ]
  },
  {
   "cell_type": "code",
   "execution_count": null,
   "metadata": {
    "ExecuteTime": {
     "end_time": "2020-12-31T15:07:51.853490Z",
     "start_time": "2020-12-31T15:07:48.717018Z"
    }
   },
   "outputs": [],
   "source": [
    "import tensorflow as tf\n",
    "\n",
    "from tensorflow import keras\n",
    "from tensorflow.keras import layers\n",
    "from tensorflow.keras import Sequential\n",
    "from tensorflow.keras.layers import Dense\n",
    "# from tensorflow.keras.layers.experimental import preprocessing\n"
   ]
  },
  {
   "cell_type": "code",
   "execution_count": null,
   "metadata": {
    "ExecuteTime": {
     "end_time": "2020-12-31T15:07:51.858212Z",
     "start_time": "2020-12-31T15:07:51.854840Z"
    }
   },
   "outputs": [],
   "source": [
    "from numpy import sqrt\n",
    "from tensorflow.keras.callbacks import EarlyStopping"
   ]
  },
  {
   "cell_type": "code",
   "execution_count": null,
   "metadata": {
    "ExecuteTime": {
     "start_time": "2020-12-31T15:06:57.773Z"
    }
   },
   "outputs": [],
   "source": [
    "n_features = X_train.shape[1]\n",
    "# define model\n",
    "model = Sequential()\n",
    "model.add(Dense(10, activation='relu', kernel_initializer='he_normal', input_shape=(n_features,)))\n",
    "model.add(Dense(8, activation='relu', kernel_initializer='he_normal'))\n",
    "model.add(Dense(1))\n",
    "# compile the model\n",
    "model.compile(optimizer='adam', loss='mae')\n",
    "# configure early stopping\n",
    "es = EarlyStopping(monitor='val_loss', patience=10)\n",
    "# fit the model\n",
    "history = model.fit(X_train, y_train, epochs=200, batch_size=32, verbose=1,validation_split=0.3, callbacks=[es])"
   ]
  },
  {
   "cell_type": "code",
   "execution_count": null,
   "metadata": {
    "ExecuteTime": {
     "start_time": "2020-12-31T15:06:57.776Z"
    }
   },
   "outputs": [],
   "source": [
    "# evaluate the model\n",
    "error = model.evaluate(X_test, y_test, verbose=0)\n",
    "print('MSE: %.3f, RMSE: %.3f' % (error, sqrt(error)))"
   ]
  },
  {
   "cell_type": "markdown",
   "metadata": {},
   "source": [
    "Compare Decision Tree Regressor:\n",
    "- MSE: 0.13437337960587777\n",
    "- RMSE: 0.36266610215028854"
   ]
  },
  {
   "cell_type": "code",
   "execution_count": null,
   "metadata": {
    "ExecuteTime": {
     "start_time": "2020-12-31T15:06:57.781Z"
    }
   },
   "outputs": [],
   "source": [
    "# hist = pd.DataFrame(history.history)\n",
    "# hist['epoch'] = history.epoch\n",
    "# hist.tail()"
   ]
  },
  {
   "cell_type": "code",
   "execution_count": null,
   "metadata": {
    "ExecuteTime": {
     "start_time": "2020-12-31T15:06:57.785Z"
    }
   },
   "outputs": [],
   "source": [
    "from tensorflow.keras.utils import plot_model\n",
    "# summarize the model\n",
    "plot_model(model, 'model.png', show_shapes=True)"
   ]
  },
  {
   "cell_type": "code",
   "execution_count": null,
   "metadata": {
    "ExecuteTime": {
     "start_time": "2020-12-31T15:06:57.789Z"
    }
   },
   "outputs": [],
   "source": [
    "plt.title('Learning Curves')\n",
    "plt.xlabel('Epoch')\n",
    "plt.ylabel('Cross Entropy')\n",
    "plt.plot(history.history['loss'], label='train')\n",
    "plt.plot(history.history['val_loss'], label='val')\n",
    "plt.legend()\n",
    "plt.show()"
   ]
  },
  {
   "cell_type": "markdown",
   "metadata": {},
   "source": [
    "# Grid search Kerasregressor"
   ]
  },
  {
   "cell_type": "code",
   "execution_count": null,
   "metadata": {
    "ExecuteTime": {
     "start_time": "2020-12-31T15:06:57.793Z"
    }
   },
   "outputs": [],
   "source": [
    "# from keras.wrappers.scikit_learn import KerasRegressor\n",
    "# from sklearn.model_selection import GridSearchCV"
   ]
  },
  {
   "cell_type": "code",
   "execution_count": null,
   "metadata": {
    "ExecuteTime": {
     "start_time": "2020-12-31T15:06:57.796Z"
    }
   },
   "outputs": [],
   "source": [
    "# def neural_network(size1 = 512, size2 = 256, size3 = 32):\n",
    "#     n_features = X_train.shape[1]\n",
    "#     # define model\n",
    "#     model = Sequential()\n",
    "#     model.add(Dense(10, activation='relu', kernel_initializer='he_normal', input_shape=(n_features,)))\n",
    "#     model.add(Dense(8, activation='relu', kernel_initializer='he_normal'))\n",
    "#     model.add(Dense(1))\n",
    "#     # compile the model\n",
    "#     model.compile(optimizer='adam', loss='mae')\n",
    "#     return(model)\n",
    "\n",
    "# NN_grid = KerasRegressor(build_fn=neural_network, batch_size = 128, nb_epoch = 60, verbose = 1)\n",
    "\n",
    "\n",
    "# print('Length of data input: ', y_train.shape[0])\n",
    "\n",
    "\n",
    "\n",
    "# size1 = [256, 512, 1024]\n",
    "# size2 = [64, 128, 256, 512]\n",
    "# size3 = [64, 32, 16, 8]\n",
    "\n",
    "\n",
    "# validator = GridSearchCV(estimator = NN_grid, param_grid = {\n",
    "#         'size1': size1,\n",
    "#         'size2': size2,\n",
    "#         'size3': size3,\n",
    "#     }, cv = 5)\n",
    "             \n",
    "# grid_result = validator.fit(X_train, y_train)\n",
    "\n",
    "# print('The parameters of the best model are: ')\n",
    "# print(validator.best_params_)\n",
    "\n",
    "# print(\"Best: %f using %s\" % (grid_result.best_score_, grid_result.best_params_))\n",
    "\n",
    "# for params, mean_score, scores in grid_result.grid_scores_:\n",
    "#     print(\"%f (%f) with: %r\" % (scores.mean(), scores.std(), params))"
   ]
  },
  {
   "cell_type": "markdown",
   "metadata": {},
   "source": [
    "## Deep regression with scaling"
   ]
  },
  {
   "cell_type": "code",
   "execution_count": null,
   "metadata": {
    "ExecuteTime": {
     "start_time": "2020-12-31T15:06:57.802Z"
    }
   },
   "outputs": [],
   "source": [
    "from sklearn import preprocessing\n",
    "mm_scaler = preprocessing.MinMaxScaler()\n",
    "X_train = mm_scaler.fit_transform(X_train)\n",
    "mm_scaler.transform(X_test)"
   ]
  },
  {
   "cell_type": "code",
   "execution_count": null,
   "metadata": {
    "ExecuteTime": {
     "start_time": "2020-12-31T15:06:57.806Z"
    }
   },
   "outputs": [],
   "source": [
    "n_features = X_train.shape[1]\n",
    "# define model\n",
    "model = Sequential()\n",
    "model.add(Dense(10, activation='relu', kernel_initializer='he_normal', input_shape=(n_features,)))\n",
    "model.add(Dense(8, activation='relu', kernel_initializer='he_normal'))\n",
    "model.add(Dense(1))\n",
    "# compile the model\n",
    "model.compile(optimizer='adam', loss='mae')\n",
    "# configure early stopping\n",
    "es = EarlyStopping(monitor='val_loss', patience=10)\n",
    "# fit the model\n",
    "history = model.fit(X_train, y_train, epochs=200, batch_size=32, verbose=1,validation_split=0.3, callbacks=[es])"
   ]
  },
  {
   "cell_type": "code",
   "execution_count": null,
   "metadata": {
    "ExecuteTime": {
     "start_time": "2020-12-31T15:06:57.812Z"
    }
   },
   "outputs": [],
   "source": [
    "# evaluate the model - MSE: 0.25, RMSE: 0.5 previously\n",
    "error = model.evaluate(X_test, y_test, verbose=0)\n",
    "print('MSE: %.3f, RMSE: %.3f' % (error, sqrt(error)))"
   ]
  },
  {
   "cell_type": "code",
   "execution_count": null,
   "metadata": {
    "ExecuteTime": {
     "start_time": "2020-12-31T15:06:57.818Z"
    }
   },
   "outputs": [],
   "source": [
    "plt.title('Learning Curves')\n",
    "plt.xlabel('Epoch')\n",
    "plt.ylabel('Cross Entropy')\n",
    "plt.plot(history.history['loss'], label='train')\n",
    "plt.plot(history.history['val_loss'], label='val')\n",
    "plt.legend()\n",
    "plt.show()"
   ]
  },
  {
   "cell_type": "code",
   "execution_count": null,
   "metadata": {},
   "outputs": [],
   "source": []
  },
  {
   "cell_type": "markdown",
   "metadata": {},
   "source": [
    "# Denser network"
   ]
  },
  {
   "cell_type": "code",
   "execution_count": null,
   "metadata": {
    "ExecuteTime": {
     "start_time": "2020-12-31T15:06:57.825Z"
    }
   },
   "outputs": [],
   "source": [
    "# import numpy\n",
    "# from sklearn.model_selection import GridSearchCV\n",
    "# from keras.wrappers.scikit_learn import KerasRegressor\n",
    "# # Function to create model, required for KerasClassifier\n",
    "# def create_model():\n",
    "# # create model\n",
    "#     model = Sequential()\n",
    "#     model.add(Dense(10, activation='relu', kernel_initializer='he_normal', input_shape=(n_features,)))\n",
    "#     model.add(Dense(8, activation='relu', kernel_initializer='he_normal'))\n",
    "#     model.add(Dense(1))\n",
    "#     # Compile model\n",
    "#     # compile the model\n",
    "#     model.compile(optimizer='adam', loss='mae')\n",
    "#     return model\n",
    "# # fix random seed for reproducibility\n",
    "# seed = 7\n",
    "# numpy.random.seed(seed)\n",
    "# # create model\n",
    "# model = KerasRegressor(build_fn=create_model, verbose=0)\n",
    "# # define the grid search parameters\n",
    "# batch_size = [10, 20, 40, 60, 80, 100]\n",
    "# epochs = [10, 50, 100]\n",
    "# param_grid = dict(batch_size=batch_size, epochs=epochs)\n",
    "# grid = GridSearchCV(estimator=model, param_grid=param_grid, n_jobs=-1, cv=3)\n",
    "# grid_result = grid.fit(X_train, y_train)\n",
    "# # summarize results\n",
    "# print(\"Best: %f using %s\" % (grid_result.best_score_, grid_result.best_params_))\n",
    "# means = grid_result.cv_results_['mean_test_score']\n",
    "# stds = grid_result.cv_results_['std_test_score']\n",
    "# params = grid_result.cv_results_['params']\n",
    "# for mean, stdev, param in zip(means, stds, params):\n",
    "#     print(\"%f (%f) with: %r\" % (mean, stdev, param))"
   ]
  },
  {
   "cell_type": "markdown",
   "metadata": {},
   "source": [
    "# Review_df(just Victoria Secret data) modeling below--"
   ]
  },
  {
   "cell_type": "markdown",
   "metadata": {},
   "source": [
    "## Prep for modeling -- split"
   ]
  },
  {
   "cell_type": "code",
   "execution_count": null,
   "metadata": {
    "ExecuteTime": {
     "start_time": "2020-12-31T15:06:57.830Z"
    }
   },
   "outputs": [],
   "source": [
    "y = review_df['rating']\n",
    "X = review_df.drop(columns=['rating','review_count'],axis=1)"
   ]
  },
  {
   "cell_type": "code",
   "execution_count": null,
   "metadata": {
    "ExecuteTime": {
     "start_time": "2020-12-31T15:06:57.834Z"
    }
   },
   "outputs": [],
   "source": [
    "from sklearn.model_selection import train_test_split\n",
    "\n",
    "X_train, X_test, y_train, y_test = train_test_split(X, y, test_size=0.2, random_state=123)"
   ]
  },
  {
   "cell_type": "markdown",
   "metadata": {},
   "source": [
    "## Modeling \n",
    "## Decision Tree Regressor"
   ]
  },
  {
   "cell_type": "code",
   "execution_count": null,
   "metadata": {
    "ExecuteTime": {
     "start_time": "2020-12-31T15:06:57.839Z"
    }
   },
   "outputs": [],
   "source": [
    "from sklearn.tree import DecisionTreeRegressor\n",
    "regressor = DecisionTreeRegressor()\n",
    "regressor.fit(X_train, y_train)"
   ]
  },
  {
   "cell_type": "code",
   "execution_count": null,
   "metadata": {
    "ExecuteTime": {
     "start_time": "2020-12-31T15:06:57.843Z"
    }
   },
   "outputs": [],
   "source": [
    "y_pred = regressor.predict(X_test)\n",
    "\n",
    "pred_df=pd.DataFrame({'Actual':y_test, 'Predicted':y_pred})\n",
    "pred_df"
   ]
  },
  {
   "cell_type": "code",
   "execution_count": null,
   "metadata": {
    "ExecuteTime": {
     "start_time": "2020-12-31T15:06:57.846Z"
    }
   },
   "outputs": [],
   "source": [
    "from sklearn import metrics\n",
    "print('Mean Absolute Error:', metrics.mean_absolute_error(y_test, y_pred))\n",
    "print('Mean Squared Error:', metrics.mean_squared_error(y_test, y_pred))\n",
    "print('Root Mean Squared Error:', np.sqrt(metrics.mean_squared_error(y_test, y_pred)))"
   ]
  },
  {
   "cell_type": "code",
   "execution_count": null,
   "metadata": {
    "ExecuteTime": {
     "start_time": "2020-12-31T15:06:57.850Z"
    }
   },
   "outputs": [],
   "source": [
    "from sklearn.metrics import r2_score\n",
    "r2_score(y_test, y_pred)"
   ]
  },
  {
   "cell_type": "code",
   "execution_count": null,
   "metadata": {
    "ExecuteTime": {
     "start_time": "2020-12-31T15:06:57.853Z"
    }
   },
   "outputs": [],
   "source": [
    "# get importance\n",
    "importance = regressor.feature_importances_\n",
    "# summarize feature importance\n",
    "for i,v in enumerate(importance):\n",
    "    print('Feature: %0d, Score: %.5f' % (i,v))\n",
    "# plot feature importance\n",
    "plt.bar([x for x in range(len(importance))], importance)\n",
    "plt.show()"
   ]
  },
  {
   "cell_type": "code",
   "execution_count": null,
   "metadata": {
    "ExecuteTime": {
     "start_time": "2020-12-31T15:06:57.857Z"
    }
   },
   "outputs": [],
   "source": [
    "from sklearn.model_selection import learning_curve\n",
    "train_sizes = [1,2000, 5000, 20000,40000,60000,110000]"
   ]
  },
  {
   "cell_type": "code",
   "execution_count": null,
   "metadata": {
    "ExecuteTime": {
     "start_time": "2020-12-31T15:06:57.861Z"
    }
   },
   "outputs": [],
   "source": [
    "train_sizes, train_scores, test_scores = learning_curve(\n",
    "    DecisionTreeRegressor(), X, y, train_sizes=[2000, 5000, 20000,40000,60000,110000], cv=5)"
   ]
  },
  {
   "cell_type": "code",
   "execution_count": null,
   "metadata": {
    "ExecuteTime": {
     "start_time": "2020-12-31T15:06:57.865Z"
    }
   },
   "outputs": [],
   "source": [
    "train_scores"
   ]
  },
  {
   "cell_type": "code",
   "execution_count": null,
   "metadata": {
    "ExecuteTime": {
     "start_time": "2020-12-31T15:06:57.869Z"
    },
    "scrolled": true
   },
   "outputs": [],
   "source": [
    "test_scores"
   ]
  },
  {
   "cell_type": "code",
   "execution_count": null,
   "metadata": {
    "ExecuteTime": {
     "start_time": "2020-12-31T15:06:57.873Z"
    }
   },
   "outputs": [],
   "source": [
    "# Create means and standard deviations of training set scores\n",
    "train_mean = np.mean(train_scores, axis=1)\n",
    "train_std = np.std(train_scores, axis=1)\n",
    "\n",
    "# Create means and standard deviations of test set scores\n",
    "test_mean = np.mean(test_scores, axis=1)\n",
    "test_std = np.std(test_scores, axis=1)\n",
    "\n",
    "# Draw lines\n",
    "plt.plot(train_sizes, train_mean, '--', color=\"#111111\",  label=\"Training score\")\n",
    "plt.plot(train_sizes, test_mean, color=\"#111111\", label=\"Cross-validation score\")\n",
    "\n",
    "# Draw bands\n",
    "plt.fill_between(train_sizes, train_mean - train_std, train_mean + train_std, color=\"#DDDDDD\")\n",
    "plt.fill_between(train_sizes, test_mean - test_std, test_mean + test_std, color=\"#DDDDDD\")\n",
    "\n",
    "# Create plot\n",
    "plt.title(\"Learning Curve\")\n",
    "plt.xlabel(\"Training Set Size\"), plt.ylabel(\"Accuracy Score\"), plt.legend(loc=\"best\")\n",
    "plt.tight_layout()\n",
    "plt.show()"
   ]
  },
  {
   "cell_type": "code",
   "execution_count": null,
   "metadata": {
    "ExecuteTime": {
     "start_time": "2020-12-31T15:06:57.876Z"
    },
    "scrolled": true
   },
   "outputs": [],
   "source": [
    "# ### Bundling our previous work into a function ###\n",
    "# def learning_curves(estimator, data, features, target, train_sizes, cv):\n",
    "#     train_sizes, train_scores, validation_scores = learning_curve(\n",
    "#     estimator, data[features], data[target], train_sizes =\n",
    "#     train_sizes,\n",
    "#     cv = cv, scoring = 'neg_mean_squared_error')\n",
    "#     train_scores_mean = -train_scores.mean(axis = 1)\n",
    "#     validation_scores_mean = -validation_scores.mean(axis = 1)\n",
    "\n",
    "#     plt.plot(train_sizes, train_scores_mean, label = 'Training error')\n",
    "#     plt.plot(train_sizes, validation_scores_mean, label = 'Validation error')\n",
    "\n",
    "#     plt.ylabel('MSE', fontsize = 14)\n",
    "#     plt.xlabel('Training set size', fontsize = 14)\n",
    "#     title = 'Learning curves for a ' + str(estimator).split('(')[0] + ' model'\n",
    "#     plt.title(title, fontsize = 18, y = 1.03)\n",
    "#     plt.legend()\n",
    "#     plt.ylim(0,40)\n",
    "\n",
    "# ### Plotting the two learning curves ###\n",
    "\n",
    "# from sklearn.ensemble import RandomForestRegressor\n",
    "\n",
    "# plt.figure(figsize = (16,5))\n",
    "\n",
    "# for model, i in [(RandomForestRegressor(), 1), (DecisionTreeRegressor(),2)]:\n",
    "#     plt.subplot(1,2,i)\n",
    "#     learning_curves(model, review_df, X, y, train_sizes, 5)"
   ]
  },
  {
   "cell_type": "code",
   "execution_count": null,
   "metadata": {
    "ExecuteTime": {
     "start_time": "2020-12-31T15:06:57.880Z"
    }
   },
   "outputs": [],
   "source": [
    "# from sklearn.model_selection import GridSearchCV"
   ]
  },
  {
   "cell_type": "code",
   "execution_count": null,
   "metadata": {
    "ExecuteTime": {
     "start_time": "2020-12-31T15:06:57.884Z"
    }
   },
   "outputs": [],
   "source": [
    "# param_grid = {\"criterion\": [\"mse\", \"mae\"],\n",
    "#               \"min_samples_split\": [10, 20, 40],\n",
    "#               \"max_depth\": [2, 6, 8],\n",
    "#               \"min_samples_leaf\": [20, 40, 100],\n",
    "#               \"max_leaf_nodes\": [5, 20, 100],\n",
    "#               }\n",
    "\n",
    "# ## Comment in order to publish in kaggle.\n",
    "\n",
    "# grid_cv_dtm = GridSearchCV(regressor, param_grid, cv=5)\n",
    "\n",
    "# grid_cv_dtm.fit(X_train,y_train)"
   ]
  },
  {
   "cell_type": "code",
   "execution_count": null,
   "metadata": {
    "ExecuteTime": {
     "start_time": "2020-12-31T15:06:57.888Z"
    }
   },
   "outputs": [],
   "source": [
    "\n",
    "from yellowbrick.regressor import ResidualsPlot\n",
    "# Instantiate the linear model and visualizer\n",
    "model = DecisionTreeRegressor()\n",
    "visualizer = ResidualsPlot(model)\n",
    "\n",
    "visualizer.fit(X_train, y_train)  # Fit the training data to the visualizer\n",
    "visualizer.score(X_test, y_test)  # Evaluate the model on the test data\n",
    "visualizer.show()                 # Finalize and render the figure"
   ]
  },
  {
   "cell_type": "code",
   "execution_count": null,
   "metadata": {
    "ExecuteTime": {
     "start_time": "2020-12-31T15:06:57.891Z"
    }
   },
   "outputs": [],
   "source": [
    "from yellowbrick.regressor import PredictionError\n",
    "\n",
    "# Instantiate the linear model and visualizer\n",
    "model = DecisionTreeRegressor()\n",
    "visualizer = PredictionError(model)\n",
    "\n",
    "visualizer.fit(X_train, y_train)  # Fit the training data to the visualizer\n",
    "visualizer.score(X_test, y_test)  # Evaluate the model on the test data\n",
    "visualizer.show()            "
   ]
  },
  {
   "cell_type": "markdown",
   "metadata": {},
   "source": [
    "# Simple deep learning TF/keras regression"
   ]
  },
  {
   "cell_type": "markdown",
   "metadata": {},
   "source": [
    "### https://machinelearningmastery.com/tensorflow-tutorial-deep-learning-with-tf-keras/"
   ]
  },
  {
   "cell_type": "code",
   "execution_count": null,
   "metadata": {
    "ExecuteTime": {
     "start_time": "2020-12-31T15:06:57.897Z"
    }
   },
   "outputs": [],
   "source": [
    "import tensorflow as tf\n",
    "\n",
    "from tensorflow import keras\n",
    "from tensorflow.keras import layers\n",
    "from tensorflow.keras import Sequential\n",
    "from tensorflow.keras.layers import Dense\n",
    "# from tensorflow.keras.layers.experimental import preprocessing\n"
   ]
  },
  {
   "cell_type": "code",
   "execution_count": null,
   "metadata": {
    "ExecuteTime": {
     "start_time": "2020-12-31T15:06:57.901Z"
    }
   },
   "outputs": [],
   "source": [
    "from numpy import sqrt\n",
    "from tensorflow.keras.callbacks import EarlyStopping"
   ]
  },
  {
   "cell_type": "code",
   "execution_count": null,
   "metadata": {
    "ExecuteTime": {
     "start_time": "2020-12-31T15:06:57.904Z"
    }
   },
   "outputs": [],
   "source": [
    "n_features = X_train.shape[1]\n",
    "# define model\n",
    "model = Sequential()\n",
    "model.add(Dense(10, activation='relu', kernel_initializer='he_normal', input_shape=(n_features,)))\n",
    "model.add(Dense(8, activation='relu', kernel_initializer='he_normal'))\n",
    "model.add(Dense(1))\n",
    "# compile the model\n",
    "model.compile(optimizer='adam', loss='mae')\n",
    "# configure early stopping\n",
    "es = EarlyStopping(monitor='val_loss', patience=10)\n",
    "# fit the model\n",
    "history = model.fit(X_train, y_train, epochs=200, batch_size=32, verbose=1,validation_split=0.3, callbacks=[es])"
   ]
  },
  {
   "cell_type": "code",
   "execution_count": null,
   "metadata": {
    "ExecuteTime": {
     "start_time": "2020-12-31T15:06:57.908Z"
    }
   },
   "outputs": [],
   "source": [
    "# evaluate the model\n",
    "error = model.evaluate(X_test, y_test, verbose=0)\n",
    "print('MSE: %.3f, RMSE: %.3f' % (error, sqrt(error)))"
   ]
  },
  {
   "cell_type": "markdown",
   "metadata": {},
   "source": [
    "Compare Decision Tree Regressor:\n",
    "- MSE: 0.12437337960587777\n",
    "- RMSE: 0.35266610215028854"
   ]
  },
  {
   "cell_type": "code",
   "execution_count": null,
   "metadata": {
    "ExecuteTime": {
     "start_time": "2020-12-31T15:06:57.913Z"
    }
   },
   "outputs": [],
   "source": [
    "# hist = pd.DataFrame(history.history)\n",
    "# hist['epoch'] = history.epoch\n",
    "# hist.tail()"
   ]
  },
  {
   "cell_type": "code",
   "execution_count": null,
   "metadata": {
    "ExecuteTime": {
     "start_time": "2020-12-31T15:06:57.916Z"
    }
   },
   "outputs": [],
   "source": [
    "from tensorflow.keras.utils import plot_model\n",
    "# summarize the model\n",
    "plot_model(model, 'model.png', show_shapes=True)"
   ]
  },
  {
   "cell_type": "code",
   "execution_count": null,
   "metadata": {
    "ExecuteTime": {
     "start_time": "2020-12-31T15:06:57.920Z"
    }
   },
   "outputs": [],
   "source": [
    "plt.title('Learning Curves')\n",
    "plt.xlabel('Epoch')\n",
    "plt.ylabel('Cross Entropy')\n",
    "plt.plot(history.history['loss'], label='train')\n",
    "plt.plot(history.history['val_loss'], label='val')\n",
    "plt.legend()\n",
    "plt.show()"
   ]
  },
  {
   "cell_type": "markdown",
   "metadata": {},
   "source": [
    "## With scaling"
   ]
  },
  {
   "cell_type": "code",
   "execution_count": null,
   "metadata": {
    "ExecuteTime": {
     "start_time": "2020-12-31T15:06:57.925Z"
    }
   },
   "outputs": [],
   "source": [
    "from sklearn import preprocessing\n",
    "mm_scaler = preprocessing.MinMaxScaler()\n",
    "X_train = mm_scaler.fit_transform(X_train)\n",
    "mm_scaler.transform(X_test)"
   ]
  },
  {
   "cell_type": "code",
   "execution_count": null,
   "metadata": {
    "ExecuteTime": {
     "start_time": "2020-12-31T15:06:57.929Z"
    }
   },
   "outputs": [],
   "source": [
    "n_features = X_train.shape[1]\n",
    "# define model\n",
    "model = Sequential()\n",
    "model.add(Dense(10, activation='relu', kernel_initializer='he_normal', input_shape=(n_features,)))\n",
    "model.add(Dense(8, activation='relu', kernel_initializer='he_normal'))\n",
    "model.add(Dense(1))\n",
    "# compile the model\n",
    "model.compile(optimizer='adam', loss='mae')\n",
    "# configure early stopping\n",
    "es = EarlyStopping(monitor='val_loss', patience=10)\n",
    "# fit the model\n",
    "history = model.fit(X_train, y_train, epochs=200, batch_size=32, verbose=1,validation_split=0.3, callbacks=[es])"
   ]
  },
  {
   "cell_type": "code",
   "execution_count": null,
   "metadata": {
    "ExecuteTime": {
     "start_time": "2020-12-31T15:06:57.933Z"
    }
   },
   "outputs": [],
   "source": [
    "# evaluate the model - MSE: 0.213, RMSE: 0.461 previously\n",
    "error = model.evaluate(X_test, y_test, verbose=0)\n",
    "print('MSE: %.3f, RMSE: %.3f' % (error, sqrt(error)))"
   ]
  },
  {
   "cell_type": "code",
   "execution_count": null,
   "metadata": {
    "ExecuteTime": {
     "start_time": "2020-12-31T15:06:57.937Z"
    }
   },
   "outputs": [],
   "source": [
    "plt.title('Learning Curves')\n",
    "plt.xlabel('Epoch')\n",
    "plt.ylabel('Cross Entropy')\n",
    "plt.plot(history.history['loss'], label='train')\n",
    "plt.plot(history.history['val_loss'], label='val')\n",
    "plt.legend()\n",
    "plt.show()"
   ]
  },
  {
   "cell_type": "markdown",
   "metadata": {},
   "source": [
    "## Code improvement -- KerasRegressor wrapper baseline"
   ]
  },
  {
   "cell_type": "code",
   "execution_count": null,
   "metadata": {
    "ExecuteTime": {
     "start_time": "2020-12-31T15:06:57.942Z"
    }
   },
   "outputs": [],
   "source": [
    "# from keras.wrappers.scikit_learn import KerasRegressor\n",
    "# from sklearn.model_selection import cross_val_score\n",
    "# from sklearn.model_selection import KFold"
   ]
  },
  {
   "cell_type": "code",
   "execution_count": null,
   "metadata": {
    "ExecuteTime": {
     "start_time": "2020-12-31T15:06:57.946Z"
    }
   },
   "outputs": [],
   "source": [
    "# def baseline_model():\n",
    "#     # create model\n",
    "#     model = Sequential()\n",
    "#     model.add(Dense(13, input_dim=n_features, kernel_initializer='normal', activation='relu'))\n",
    "#     model.add(Dense(1, kernel_initializer='normal'))\n",
    "#     # Compile model\n",
    "#     model.compile(loss='mean_squared_error', optimizer='adam')\n",
    "#     return model"
   ]
  },
  {
   "cell_type": "code",
   "execution_count": null,
   "metadata": {
    "ExecuteTime": {
     "start_time": "2020-12-31T15:06:57.952Z"
    }
   },
   "outputs": [],
   "source": [
    "# estimator = KerasRegressor(build_fn=baseline_model, epochs=100, batch_size=5, verbose=1)\n",
    "# kfold = KFold(n_splits=5)\n",
    "# results = cross_val_score(estimator, X_train, y_train, cv=kfold)\n",
    "# print(\"Baseline: %.2f (%.2f) MSE\" % (results.mean(), results.std()))"
   ]
  },
  {
   "cell_type": "markdown",
   "metadata": {},
   "source": [
    "# Feature selection"
   ]
  },
  {
   "cell_type": "code",
   "execution_count": null,
   "metadata": {
    "ExecuteTime": {
     "start_time": "2020-12-31T15:06:57.958Z"
    }
   },
   "outputs": [],
   "source": [
    "# from sklearn.feature_selection import SelectFromModel\n",
    "# from sklearn.metrics import accuracy_score\n",
    "\n",
    "# def select_features(X_train, y_train, X_test,max_features):\n",
    "# # configure to select a subset of features\n",
    "#     fs = SelectFromModel(DecisionTreeRegressor(random_state=0), max_features=max_features)\n",
    "#     # learn relationship from training data\n",
    "#     fs.fit(X_train, y_train)\n",
    "#     # transform train input data\n",
    "#     X_train_fs = fs.transform(X_train)\n",
    "#     # transform test input data\n",
    "#     X_test_fs = fs.transform(X_test)\n",
    "#     return X_train_fs, X_test_fs, fs\n",
    "\n",
    "# X_train_fs, X_test_fs, fs = select_features(X_train, y_train, X_test, 75)\n",
    "# # fit the model\n",
    "# model = RandomForestRegressor(random_state=0)\n",
    "# model.fit(X_train_fs, y_train)\n",
    "# # evaluate the model\n",
    "# y_pred = model.predict(X_test_fs)\n",
    "# # evaluate predictions\n",
    "# print('Mean Absolute Error:', metrics.mean_absolute_error(y_test, y_pred))\n",
    "# print('Mean Squared Error:', metrics.mean_squared_error(y_test, y_pred))\n",
    "# print('Root Mean Squared Error:', np.sqrt(metrics.mean_squared_error(y_test, y_pred)))\n",
    "# print(\"R2 Score\", metrics.r2_score(y_test,y_pred))"
   ]
  }
 ],
 "metadata": {
  "kernelspec": {
   "display_name": "learn-env",
   "language": "python",
   "name": "learn-env"
  },
  "language_info": {
   "codemirror_mode": {
    "name": "ipython",
    "version": 3
   },
   "file_extension": ".py",
   "mimetype": "text/x-python",
   "name": "python",
   "nbconvert_exporter": "python",
   "pygments_lexer": "ipython3",
   "version": "3.7.6"
  },
  "toc": {
   "base_numbering": 1,
   "nav_menu": {},
   "number_sections": true,
   "sideBar": true,
   "skip_h1_title": false,
   "title_cell": "Table of Contents",
   "title_sidebar": "Contents",
   "toc_cell": true,
   "toc_position": {},
   "toc_section_display": true,
   "toc_window_display": true
  }
 },
 "nbformat": 4,
 "nbformat_minor": 2
}
